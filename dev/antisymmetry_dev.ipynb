{
 "cells": [
  {
   "cell_type": "code",
   "execution_count": 1,
   "id": "2e370623",
   "metadata": {
    "ExecuteTime": {
     "end_time": "2021-10-22T23:38:42.426000+02:00",
     "start_time": "2021-10-22T21:38:40.533Z"
    }
   },
   "outputs": [],
   "source": [
    "using Revise"
   ]
  },
  {
   "cell_type": "code",
   "execution_count": 2,
   "id": "8ba814c7",
   "metadata": {
    "ExecuteTime": {
     "end_time": "2021-10-22T23:38:45.723000+02:00",
     "start_time": "2021-10-22T21:38:43.443Z"
    }
   },
   "outputs": [
    {
     "name": "stderr",
     "output_type": "stream",
     "text": [
      "\u001b[32m\u001b[1m  Activating\u001b[22m\u001b[39m environment at `~/.julia/dev/SymArrays/Project.toml`\n"
     ]
    }
   ],
   "source": [
    "using Pkg\n",
    "pkg\"activate ..\""
   ]
  },
  {
   "cell_type": "code",
   "execution_count": 3,
   "id": "4871b6c3",
   "metadata": {
    "ExecuteTime": {
     "end_time": "2021-10-22T23:38:45.734000+02:00",
     "start_time": "2021-10-22T21:38:44.378Z"
    }
   },
   "outputs": [],
   "source": [
    "#pkg\"up\""
   ]
  },
  {
   "cell_type": "code",
   "execution_count": 4,
   "id": "961d9785",
   "metadata": {
    "ExecuteTime": {
     "end_time": "2021-10-22T23:38:46.732000+02:00",
     "start_time": "2021-10-22T21:38:45.179Z"
    }
   },
   "outputs": [],
   "source": [
    "using BenchmarkTools\n",
    "using TupleTools\n",
    "using MacroTools"
   ]
  },
  {
   "cell_type": "code",
   "execution_count": 5,
   "id": "4c776dd5",
   "metadata": {
    "ExecuteTime": {
     "end_time": "2021-10-22T23:39:11.317000+02:00",
     "start_time": "2021-10-22T21:38:46.621Z"
    }
   },
   "outputs": [
    {
     "name": "stderr",
     "output_type": "stream",
     "text": [
      "┌ Info: Precompiling SymArrays [c2b21f84-4a8e-4c96-99a2-2b79df568f75]\n",
      "└ @ Base loading.jl:1342\n"
     ]
    }
   ],
   "source": [
    "using SymArrays\n",
    "using SymArrays: SymIndexIter, ind2sub_symgrp\n",
    "using Base: tail"
   ]
  },
  {
   "cell_type": "code",
   "execution_count": 6,
   "id": "263836dc",
   "metadata": {
    "ExecuteTime": {
     "end_time": "2021-10-22T23:39:16.806000+02:00",
     "start_time": "2021-10-22T21:38:49.200Z"
    }
   },
   "outputs": [
    {
     "data": {
      "text/plain": [
       "consume (generic function with 1 method)"
      ]
     },
     "execution_count": 6,
     "metadata": {},
     "output_type": "execute_result"
    }
   ],
   "source": [
    "consume(it) = begin\n",
    "    ii = 0\n",
    "    for x in it\n",
    "        ii += first(Tuple(x))\n",
    "    end\n",
    "    ii\n",
    "end"
   ]
  },
  {
   "cell_type": "code",
   "execution_count": 7,
   "id": "805bf490",
   "metadata": {
    "ExecuteTime": {
     "end_time": "2021-10-22T23:39:20.976000+02:00",
     "start_time": "2021-10-22T21:38:52.496Z"
    }
   },
   "outputs": [
    {
     "name": "stdout",
     "output_type": "stream",
     "text": [
      "  30.657 μs (0 allocations: 0 bytes)\n"
     ]
    },
    {
     "data": {
      "text/plain": [
       "48620"
      ]
     },
     "execution_count": 7,
     "metadata": {},
     "output_type": "execute_result"
    }
   ],
   "source": [
    "@btime consume(SI) setup=(SI=SymIndexIter(8,10)) seconds=1"
   ]
  },
  {
   "cell_type": "code",
   "execution_count": 8,
   "id": "98d2df27",
   "metadata": {
    "ExecuteTime": {
     "end_time": "2021-10-22T23:39:21.340000+02:00",
     "start_time": "2021-10-22T21:39:17.842Z"
    }
   },
   "outputs": [],
   "source": [
    "S = SymArray{(2,3,2),Float64}(9,9,6,6,6,4,4);\n",
    "# S = SymArray{(3,),Float64}(9,9,9);"
   ]
  },
  {
   "cell_type": "code",
   "execution_count": 9,
   "id": "d05e81b6",
   "metadata": {
    "ExecuteTime": {
     "end_time": "2021-10-22T23:39:21.358000+02:00",
     "start_time": "2021-10-22T21:39:20.318Z"
    }
   },
   "outputs": [
    {
     "data": {
      "text/plain": [
       "25200"
      ]
     },
     "execution_count": 9,
     "metadata": {},
     "output_type": "execute_result"
    }
   ],
   "source": [
    "length(S)"
   ]
  },
  {
   "cell_type": "code",
   "execution_count": 10,
   "id": "3f6d8b98",
   "metadata": {
    "ExecuteTime": {
     "end_time": "2021-10-22T23:39:22.583000+02:00",
     "start_time": "2021-10-22T21:39:21.999Z"
    }
   },
   "outputs": [
    {
     "data": {
      "text/plain": [
       "(9, 6, 4)"
      ]
     },
     "execution_count": 10,
     "metadata": {},
     "output_type": "execute_result"
    }
   ],
   "source": [
    "S.Nts"
   ]
  },
  {
   "cell_type": "code",
   "execution_count": 11,
   "id": "934e89d9",
   "metadata": {
    "ExecuteTime": {
     "end_time": "2021-10-22T23:39:23.380000+02:00",
     "start_time": "2021-10-22T21:39:23.142Z"
    }
   },
   "outputs": [
    {
     "data": {
      "text/plain": [
       "SymArrayIter2 (generic function with 1 method)"
      ]
     },
     "execution_count": 11,
     "metadata": {},
     "output_type": "execute_result"
    }
   ],
   "source": [
    "SymArrayIter2(S::SymArray) = (CartesianIndex(TupleTools.flatten(I)) for I in Base.Iterators.product(SymIndexIter.(symgrps(S),S.Nts)...))"
   ]
  },
  {
   "cell_type": "code",
   "execution_count": 12,
   "id": "d7d91198",
   "metadata": {
    "ExecuteTime": {
     "end_time": "2021-10-22T23:39:42.427000+02:00",
     "start_time": "2021-10-22T21:39:42.333Z"
    }
   },
   "outputs": [],
   "source": [
    "struct SymArrayIter3{N,T}\n",
    "    iters::T\n",
    "    SymArrayIter3(S::SymArray{Nsyms,T,N}) where {Nsyms,T,N} = (iters = SymIndexIter.(symgrps(S),S.Nts); new{N,typeof(iters)}(iters))\n",
    "end\n",
    "Base.IteratorSize(::Type{<:SymArrayIter3}) = Base.HasLength()\n",
    "Base.IteratorEltype(::Type{<:SymArrayIter3}) = Base.HasEltype()\n",
    "Base.ndims(::SymArrayIter3{N,T}) where {N,T} = N\n",
    "Base.eltype(::Type{SymArrayIter3{N,T}}) where {N,T} = NTuple{N,Int}\n",
    "#Base.length(iter::SymArrayIter3{N,T}) where {N,T} = symarrlength(Nts,Nsyms)\n",
    "Base.first(iter::SymArrayIter3) = CartesianIndex(TupleTools.flatten(first.(iter.iters)))\n",
    "Base.last(iter::SymArrayIter3) = CartesianIndex(TupleTools.flatten(last.(iter.iters)))"
   ]
  },
  {
   "cell_type": "code",
   "execution_count": 13,
   "id": "3025253e",
   "metadata": {
    "ExecuteTime": {
     "end_time": "2021-10-22T23:39:43.902000+02:00",
     "start_time": "2021-10-22T21:39:43.759Z"
    }
   },
   "outputs": [],
   "source": [
    "function Base.iterate(iter::SymArrayIter3)\n",
    "    Is = first.(iter.iters)\n",
    "    CartesianIndex(TupleTools.flatten(Is)), Is\n",
    "end\n",
    "function Base.iterate(iter::SymArrayIter3, states)\n",
    "    valid, Is = __inc3(iter.iters, states)\n",
    "    valid || return nothing\n",
    "    CartesianIndex(TupleTools.flatten(Is)), Is\n",
    "end\n",
    "\n",
    "function __inc3(iters::Tuple{T}, states::Tuple{<:Tuple}) where T\n",
    "    v, I1 = SymArrays.__inc(first(iters),first(states))\n",
    "    v, (I1,)\n",
    "end\n",
    "function __inc3(iters::Tuple, states::S)::Tuple{Bool,S} where S\n",
    "    #println(states)\n",
    "    valid, I1 = SymArrays.__inc(first(iters),first(states))\n",
    "    #println(valid,I1)\n",
    "    if valid\n",
    "        valid, (I1, Base.tail(states)...)\n",
    "    else\n",
    "        I1 = first(first(iters))\n",
    "        valid, Irest = __inc3(Base.tail(iters), Base.tail(states))\n",
    "        valid, (I1, Irest...)\n",
    "    end\n",
    "end;"
   ]
  },
  {
   "cell_type": "code",
   "execution_count": 14,
   "id": "86340518",
   "metadata": {
    "ExecuteTime": {
     "end_time": "2021-10-22T23:39:45.037000+02:00",
     "start_time": "2021-10-22T21:39:44.947Z"
    }
   },
   "outputs": [
    {
     "data": {
      "text/plain": [
       "120"
      ]
     },
     "execution_count": 14,
     "metadata": {},
     "output_type": "execute_result"
    }
   ],
   "source": [
    "SymArrays.symarrlength((2,3,4),(3,-2,2))"
   ]
  },
  {
   "cell_type": "code",
   "execution_count": 15,
   "id": "dfb4f25c",
   "metadata": {
    "ExecuteTime": {
     "end_time": "2021-10-22T23:39:46.577000+02:00",
     "start_time": "2021-10-22T21:39:46.443Z"
    }
   },
   "outputs": [],
   "source": [
    "struct SymArrayIter4{Nsyms,N}\n",
    "    sizes::NTuple{N,Int}\n",
    "    SymArrayIter4(A::SymArray{Nsyms,T,N}) where {Nsyms,T,N} = new{Nsyms,N}(A.size)\n",
    "end\n",
    "\n",
    "@generated function Base.first(iter::SymArrayIter4{Nsyms}) where Nsyms\n",
    "    # have this be a generated function so the return value is \n",
    "    # simply the constant final tuple\n",
    "    CartesianIndex(TupleTools.flatten(first.(SymIndexIter.(Nsyms,Nsyms))))\n",
    "end\n",
    "\n",
    "@inline function Base.iterate(iter::SymArrayIter4)\n",
    "    cI = first(iter)\n",
    "    cI, Tuple(cI)\n",
    "end\n",
    "\n",
    "function SymArrayIter4_iterate_code(Nsyms)\n",
    "    newstate = Any[:(state[$i]) for i=1:sum(abs.(Nsyms))]\n",
    "    code = quote end\n",
    "    # global dimension index\n",
    "    D = 0\n",
    "    for Nsym in Nsyms\n",
    "        for d = 1:abs(Nsym)\n",
    "            D += 1\n",
    "            maxv = d==abs(Nsym) ? :(iter.sizes[$D]) : (Nsym>0 ? :(state[$(D+1)]) : :(state[$(D+1)]-1))\n",
    "            newstate[D] = :( state[$D] + 1 )\n",
    "            push!(code.args, :( state[$D] < $maxv && (I=($(newstate...),); return (CartesianIndex(I),I)) ) )\n",
    "            newstate[D] = Nsym>0 ? 1 : d\n",
    "        end\n",
    "    end\n",
    "    push!(code.args, :(nothing) )\n",
    "    code\n",
    "end\n",
    "\n",
    "function SymArrayIter4_iterate_code2(Nsyms,N)\n",
    "    newstate = Any[:(state[$i]) for i=1:N]\n",
    "    code = Expr(:block)\n",
    "    currif = Expr(:if)\n",
    "    push!(code.args,currif)\n",
    "    # global dimension index\n",
    "    D = 0\n",
    "    for Nsym in Nsyms\n",
    "        for d = 1:abs(Nsym)\n",
    "            D += 1\n",
    "            maxv = d==abs(Nsym) ? :(iter.sizes[$D]) : (Nsym>0 ? :(state[$(D+1)]) : :(state[$(D+1)]-1))\n",
    "            newstate[D] = :( state[$D] + 1 )\n",
    "            push!(currif.args, :( state[$D] < $maxv ))\n",
    "            push!(currif.args, :( I = ($(newstate...),) ))\n",
    "            newstate[D] = Nsym>0 ? 1 : d\n",
    "            if D == N\n",
    "                push!(currif.args, :( return nothing ))\n",
    "            else\n",
    "                push!(currif.args, Expr(:elseif))\n",
    "                currif = currif.args[3]\n",
    "            end\n",
    "        end\n",
    "    end\n",
    "    push!(code.args, :( CartesianIndex(I), I ))\n",
    "    code\n",
    "end\n",
    "\n",
    "@generated function Base.iterate(iter::SymArrayIter4{Nsyms,N}, state::NTuple{N,Int}) where {Nsyms,N}\n",
    "    SymArrayIter4_iterate_code2(Nsyms,N)\n",
    "end"
   ]
  },
  {
   "cell_type": "code",
   "execution_count": 16,
   "id": "1d13e657",
   "metadata": {
    "ExecuteTime": {
     "end_time": "2021-10-22T23:39:50.782000+02:00",
     "start_time": "2021-10-22T21:39:48.387Z"
    }
   },
   "outputs": [
    {
     "data": {
      "text/plain": [
       "quote\n",
       "    if state[1] < state[2]\n",
       "        I = (state[1] + 1, state[2], state[3], state[4], state[5], state[6], state[7])\n",
       "    elseif state[2] < iter.sizes[2]\n",
       "        I = (1, state[2] + 1, state[3], state[4], state[5], state[6], state[7])\n",
       "    elseif state[3] < state[4] - 1\n",
       "        I = (1, 1, state[3] + 1, state[4], state[5], state[6], state[7])\n",
       "    elseif state[4] < state[5] - 1\n",
       "        I = (1, 1, 1, state[4] + 1, state[5], state[6], state[7])\n",
       "    elseif state[5] < iter.sizes[5]\n",
       "        I = (1, 1, 1, 2, state[5] + 1, state[6], state[7])\n",
       "    elseif state[6] < state[7]\n",
       "        I = (1, 1, 1, 2, 3, state[6] + 1, state[7])\n",
       "    elseif state[7] < iter.sizes[7]\n",
       "        I = (1, 1, 1, 2, 3, 1, state[7] + 1)\n",
       "    else\n",
       "        return nothing\n",
       "    end\n",
       "    (CartesianIndex(I), I)\n",
       "end"
      ]
     },
     "execution_count": 16,
     "metadata": {},
     "output_type": "execute_result"
    }
   ],
   "source": [
    "MacroTools.prettify(SymArrayIter4_iterate_code2((2,-3,2),7))"
   ]
  },
  {
   "cell_type": "code",
   "execution_count": 17,
   "id": "c4d2ba1c",
   "metadata": {
    "ExecuteTime": {
     "end_time": "2021-10-22T23:40:31.580000+02:00",
     "start_time": "2021-10-22T21:40:30.258Z"
    }
   },
   "outputs": [],
   "source": [
    "S = SymArray{(2,3,2),Float64}(9,9,6,6,6,12,12);\n",
    "\n",
    "SA1 = SymArrays.SymArrayIter(S);\n",
    "SA2 = SymArrayIter2(S);\n",
    "SA3 = SymArrayIter3(S);\n",
    "SA4 = SymArrayIter4(S);\n",
    "for (I1,I2,I3,I4) in zip(SA1,SA2,SA3,SA4)\n",
    "    I1 == I2 == I3 == I4 || error(\"I1: $I1, I2: $I2, I3: $I3, I4: $I4\")\n",
    "end\n",
    "for iter in (SA1,SA2,SA3,SA4)\n",
    "    @assert consume(iter) == consume(SA4)\n",
    "    @assert count(I->true,iter) == count(I->true,SA4)\n",
    "end"
   ]
  },
  {
   "cell_type": "code",
   "execution_count": 18,
   "id": "187023df",
   "metadata": {
    "ExecuteTime": {
     "end_time": "2021-10-22T23:41:05.159000+02:00",
     "start_time": "2021-10-22T21:40:33.086Z"
    }
   },
   "outputs": [
    {
     "name": "stdout",
     "output_type": "stream",
     "text": [
      "  87.887 μs (0 allocations: 0 bytes)\n",
      "  263.285 μs (4 allocations: 96 bytes)\n",
      "  190.269 μs (0 allocations: 0 bytes)\n",
      "  84.958 μs (0 allocations: 0 bytes)\n"
     ]
    },
    {
     "data": {
      "text/plain": [
       "720720"
      ]
     },
     "execution_count": 18,
     "metadata": {},
     "output_type": "execute_result"
    }
   ],
   "source": [
    "@btime consume($SA1)\n",
    "@btime consume($SA2)\n",
    "@btime consume($SA3)\n",
    "@btime consume($SA4)"
   ]
  },
  {
   "cell_type": "code",
   "execution_count": 19,
   "id": "80b11b17",
   "metadata": {
    "ExecuteTime": {
     "end_time": "2021-10-22T23:41:41.684000+02:00",
     "start_time": "2021-10-22T21:41:20.571Z"
    }
   },
   "outputs": [
    {
     "name": "stdout",
     "output_type": "stream",
     "text": [
      "  1.221 μs (0 allocations: 0 bytes)\n",
      "  244.782 μs (4 allocations: 96 bytes)\n",
      "  126.880 μs (0 allocations: 0 bytes)\n",
      "  1.220 μs (0 allocations: 0 bytes)\n"
     ]
    },
    {
     "data": {
      "text/plain": [
       "196560"
      ]
     },
     "execution_count": 19,
     "metadata": {},
     "output_type": "execute_result"
    }
   ],
   "source": [
    "@btime count(I->true,$SA1)\n",
    "@btime count(I->true,$SA2)\n",
    "@btime count(I->true,$SA3)\n",
    "@btime count(I->true,$SA4)"
   ]
  },
  {
   "cell_type": "code",
   "execution_count": 20,
   "id": "82447e2f",
   "metadata": {
    "ExecuteTime": {
     "end_time": "2021-10-22T23:41:47.802000+02:00",
     "start_time": "2021-10-22T21:41:46.762Z"
    }
   },
   "outputs": [],
   "source": [
    "S = SymArray{(2,-3,2),Float64}(9,9,6,6,6,12,12);\n",
    "\n",
    "SA1 = eachindex(S);\n",
    "SA2 = SymArrayIter2(S);\n",
    "SA3 = SymArrayIter3(S);\n",
    "SA4 = SymArrayIter4(S);\n",
    "for (I1,I2,I3,I4) in zip(SA1,SA2,SA3,SA4)\n",
    "    I1 == I2 == I3 == I4 || error(\"I1: $I1, I2: $I2, I3: $I3, I4: $I4\")\n",
    "end\n",
    "for iter in (SA1,SA2,SA3,SA4)\n",
    "    @assert consume(iter) == consume(SA4)\n",
    "    @assert count(I->true,iter) == count(I->true,SA4)\n",
    "end"
   ]
  },
  {
   "cell_type": "code",
   "execution_count": 21,
   "id": "8814dc54",
   "metadata": {
    "ExecuteTime": {
     "end_time": "2021-10-22T23:42:17.483000+02:00",
     "start_time": "2021-10-22T21:41:49.850Z"
    }
   },
   "outputs": [
    {
     "name": "stdout",
     "output_type": "stream",
     "text": [
      "  29.925 μs (0 allocations: 0 bytes)\n",
      "  95.901 μs (4 allocations: 96 bytes)\n",
      "  56.551 μs (0 allocations: 0 bytes)\n",
      "  29.924 μs (0 allocations: 0 bytes)\n"
     ]
    },
    {
     "data": {
      "text/plain": [
       "257400"
      ]
     },
     "execution_count": 21,
     "metadata": {},
     "output_type": "execute_result"
    }
   ],
   "source": [
    "@btime consume($SA1)\n",
    "@btime consume($SA2)\n",
    "@btime consume($SA3)\n",
    "@btime consume($SA4)"
   ]
  },
  {
   "cell_type": "code",
   "execution_count": 22,
   "id": "994704a0",
   "metadata": {
    "ExecuteTime": {
     "end_time": "2021-10-22T23:42:36.113000+02:00",
     "start_time": "2021-10-22T21:41:52.198Z"
    }
   },
   "outputs": [
    {
     "name": "stdout",
     "output_type": "stream",
     "text": [
      "  866.638 ns (0 allocations: 0 bytes)\n",
      "  84.878 μs (4 allocations: 96 bytes)\n",
      "  50.747 μs (0 allocations: 0 bytes)\n",
      "  861.426 ns (0 allocations: 0 bytes)\n"
     ]
    },
    {
     "data": {
      "text/plain": [
       "70200"
      ]
     },
     "execution_count": 22,
     "metadata": {},
     "output_type": "execute_result"
    }
   ],
   "source": [
    "@btime count(I->true,$SA1)\n",
    "@btime count(I->true,$SA2)\n",
    "@btime count(I->true,$SA3)\n",
    "@btime count(I->true,$SA4)"
   ]
  },
  {
   "cell_type": "code",
   "execution_count": 23,
   "id": "acc7328f",
   "metadata": {
    "ExecuteTime": {
     "end_time": "2021-10-22T23:43:05.640000+02:00",
     "start_time": "2021-10-22T21:41:54.912Z"
    }
   },
   "outputs": [
    {
     "name": "stdout",
     "output_type": "stream",
     "text": [
      "n: 10, d: 1, count:     1.815 ns (0 allocations: 0 bytes)\n",
      "n: 10, d: 1, count:     1.815 ns (0 allocations: 0 bytes)\n",
      "n: 10, d: 2, count:     61.581 ns (0 allocations: 0 bytes)\n",
      "n: 10, d: 2, count:     56.470 ns (0 allocations: 0 bytes)\n",
      "n: 10, d: 3, count:     20.159 ns (0 allocations: 0 bytes)\n",
      "n: 10, d: 3, count:     21.117 ns (0 allocations: 0 bytes)\n",
      "n: 10, d: 4, count:     73.747 ns (0 allocations: 0 bytes)\n",
      "n: 10, d: 4, count:     131.347 ns (0 allocations: 0 bytes)\n",
      "\n",
      "n: 20, d: 1, count:     1.815 ns (0 allocations: 0 bytes)\n",
      "n: 20, d: 1, count:     2.168 ns (0 allocations: 0 bytes)\n",
      "n: 20, d: 2, count:     268.915 ns (0 allocations: 0 bytes)\n",
      "n: 20, d: 2, count:     373.688 ns (0 allocations: 0 bytes)\n",
      "n: 20, d: 3, count:     41.174 ns (0 allocations: 0 bytes)\n",
      "n: 20, d: 3, count:     44.589 ns (0 allocations: 0 bytes)\n",
      "n: 20, d: 4, count:     337.922 ns (0 allocations: 0 bytes)\n",
      "n: 20, d: 4, count:     458.872 ns (0 allocations: 0 bytes)\n",
      "\n"
     ]
    }
   ],
   "source": [
    "for n in (10,20)\n",
    "    for d in 1:4\n",
    "        for D = (-d,d)\n",
    "            S = SymArray{(D,),Float64}(ntuple(i->n,d)...)\n",
    "            print(\"n: $n, d: $d, count:   \"); @btime count(I->true,eachindex($S))\n",
    "            #print(\"n: $n, d: $d: consume: \"); @btime consume(eachindex($S))\n",
    "        end\n",
    "    end\n",
    "    println()\n",
    "end"
   ]
  },
  {
   "cell_type": "code",
   "execution_count": 15,
   "id": "dd176afd",
   "metadata": {
    "ExecuteTime": {
     "end_time": "2021-07-19T15:39:14.282000+02:00",
     "start_time": "2021-07-19T13:39:13.920Z"
    }
   },
   "outputs": [
    {
     "data": {
      "text/plain": [
       "__tstinc (generic function with 2 methods)"
      ]
     },
     "execution_count": 15,
     "metadata": {},
     "output_type": "execute_result"
    }
   ],
   "source": [
    "# struct TstIter{Nsym}\n",
    "#     size::Int\n",
    "#     \"create an iterator that gives i1<=i2<=i3 etc for one index group\"\n",
    "#     TstIter(Nsym,size) = new{Nsym}(size)\n",
    "# end\n",
    "# Base.IteratorSize(::Type{<:TstIter}) = Base.HasLength()\n",
    "# Base.IteratorEltype(::Type{<:TstIter}) = Base.HasEltype()\n",
    "# Base.ndims(::TstIter{Nsym}) where Nsym = Nsym\n",
    "# Base.eltype(::Type{TstIter{Nsym}}) where Nsym = NTuple{Nsym,Int}\n",
    "# Base.length(iter::TstIter{Nsym}) where Nsym = symgrp_size(iter.size,Nsym)\n",
    "# Base.first(iter::TstIter{Nsym}) where Nsym = Nsym > 0 ? ntuple(one,Val(Nsym)) : ntuple(i->i,Val(-Nsym))\n",
    "# Base.last(iter::TstIter{Nsym}) where Nsym = Nsym>0 ? ntuple(i->iter.size,Val(Nsym)) : ntuple(i->iter.size+Nsym+i #= Nsym < 0 here =#,Val(-Nsym))\n",
    "\n",
    "# @inline function Base.iterate(iter::TstIter)\n",
    "#     I = first(iter)\n",
    "#     I, I\n",
    "# end\n",
    "# @inline function Base.iterate(iter::TstIter, state)\n",
    "#     valid, I = __tstinc(iter, state)\n",
    "#     ifelse(valid, (I, I), nothing)\n",
    "# end\n",
    "\n",
    "# function __tstinc(iter::TstIter{Nsym}, state::NTuple{N,Int}) where {Nsym,N}\n",
    "#     if state[1] + (Nsym<0) < state[2]\n",
    "#         return true, (state[1]+1, tail(state)...)\n",
    "#     end\n",
    "#     valid, I = __tstinc(iter, tail(state))\n",
    "#     # if Nsym<0, lowest possible value for nth index is n\n",
    "#     In = ifelse(Nsym>0, 1, 1 - Nsym - N)\n",
    "#     return valid, (In, I...)\n",
    "# end\n",
    "# function __tstinc(iter::TstIter, state::Tuple{Int})\n",
    "#     # last index can go until iter.size independent of (anti-)symmetry\n",
    "#     state[1] < iter.size, (state[1]+1,)\n",
    "# end"
   ]
  },
  {
   "cell_type": "code",
   "execution_count": 16,
   "id": "da178e6d",
   "metadata": {
    "ExecuteTime": {
     "end_time": "2021-07-19T15:39:14.865000+02:00",
     "start_time": "2021-07-19T13:39:14.662Z"
    }
   },
   "outputs": [
    {
     "data": {
      "text/plain": [
       "210"
      ]
     },
     "execution_count": 16,
     "metadata": {},
     "output_type": "execute_result"
    }
   ],
   "source": [
    "symgrp_size(10,-4)"
   ]
  },
  {
   "cell_type": "code",
   "execution_count": 18,
   "id": "82639eac",
   "metadata": {
    "ExecuteTime": {
     "end_time": "2021-07-19T15:40:32.161000+02:00",
     "start_time": "2021-07-19T13:39:52.341Z"
    }
   },
   "outputs": [
    {
     "name": "stdout",
     "output_type": "stream",
     "text": [
      "n: 10, d: 2, PkgS:   2.096 ns (0 allocations: 0 bytes)\n",
      "n: 10, d: 2, PkgA:   2.026 ns (0 allocations: 0 bytes)\n",
      "n: 10, d: 2, TstS:   1.756 ns (0 allocations: 0 bytes)\n",
      "n: 10, d: 2, TstA:   2.171 ns (0 allocations: 0 bytes)\n",
      "\n",
      "n: 10, d: 3, PkgS:   19.719 ns (0 allocations: 0 bytes)\n",
      "n: 10, d: 3, PkgA:   18.790 ns (0 allocations: 0 bytes)\n",
      "n: 10, d: 3, TstS:   19.717 ns (0 allocations: 0 bytes)\n",
      "n: 10, d: 3, TstA:   18.779 ns (0 allocations: 0 bytes)\n",
      "\n",
      "n: 10, d: 4, PkgS:   126.891 ns (0 allocations: 0 bytes)\n",
      "n: 10, d: 4, PkgA:   71.109 ns (0 allocations: 0 bytes)\n",
      "n: 10, d: 4, TstS:   126.287 ns (0 allocations: 0 bytes)\n",
      "n: 10, d: 4, TstA:   71.221 ns (0 allocations: 0 bytes)\n",
      "\n",
      "\n",
      "n: 20, d: 2, PkgS:   2.025 ns (0 allocations: 0 bytes)\n",
      "n: 20, d: 2, PkgA:   1.693 ns (0 allocations: 0 bytes)\n",
      "n: 20, d: 2, TstS:   1.698 ns (0 allocations: 0 bytes)\n",
      "n: 20, d: 2, TstA:   2.027 ns (0 allocations: 0 bytes)\n",
      "\n",
      "n: 20, d: 3, PkgS:   43.086 ns (0 allocations: 0 bytes)\n",
      "n: 20, d: 3, PkgA:   40.431 ns (0 allocations: 0 bytes)\n",
      "n: 20, d: 3, TstS:   43.773 ns (0 allocations: 0 bytes)\n",
      "n: 20, d: 3, TstA:   40.428 ns (0 allocations: 0 bytes)\n",
      "\n",
      "n: 20, d: 4, PkgS:   441.737 ns (0 allocations: 0 bytes)\n",
      "n: 20, d: 4, PkgA:   324.467 ns (0 allocations: 0 bytes)\n",
      "n: 20, d: 4, TstS:   441.712 ns (0 allocations: 0 bytes)\n",
      "n: 20, d: 4, TstA:   325.526 ns (0 allocations: 0 bytes)\n",
      "\n",
      "\n"
     ]
    }
   ],
   "source": [
    "fbench = x -> count(i->true,x)\n",
    "#fbench = consume\n",
    "for n in (10,20) #,30,40,50)\n",
    "    for d in 2:4\n",
    "        for (iter,name) in ((SymIndexIter(d,n),\"PkgS\"),\n",
    "                            (SymIndexIter(-d,n),\"PkgA\"),\n",
    "                            (TstIter(d,n),\"TstS\"),\n",
    "                            (TstIter(-d,n),\"TstA\"))\n",
    "            @assert count(i->true,iter) == length(iter)\n",
    "            print(\"n: $n, d: $d, $name: \"); @btime $fbench($iter)\n",
    "        end\n",
    "        println()\n",
    "    end\n",
    "    println()\n",
    "end"
   ]
  },
  {
   "cell_type": "code",
   "execution_count": 29,
   "id": "1d783a61",
   "metadata": {
    "ExecuteTime": {
     "end_time": "2021-07-20T09:42:05.950000+02:00",
     "start_time": "2021-07-20T07:42:04.969Z"
    }
   },
   "outputs": [
    {
     "data": {
      "text/plain": [
       "(252, (1, 2, 3, 4, 5))"
      ]
     },
     "execution_count": 29,
     "metadata": {},
     "output_type": "execute_result"
    }
   ],
   "source": [
    "SI = SymIndexIter(-5,10)\n",
    "length(SI), ind2sub_symgrp(SI,1)"
   ]
  },
  {
   "cell_type": "code",
   "execution_count": 30,
   "id": "8f004926",
   "metadata": {
    "ExecuteTime": {
     "end_time": "2021-07-20T09:42:10.794000+02:00",
     "start_time": "2021-07-20T07:42:09.976Z"
    }
   },
   "outputs": [
    {
     "data": {
      "text/plain": [
       "quote\n",
       "    #= In[30]:2 =#\n",
       "    a = 3b\n",
       "    if x < 3\n",
       "        2a\n",
       "        #= In[30]:7 =#\n",
       "        a ^ 2\n",
       "    elseif y\n",
       "        b\n",
       "    else\n",
       "        c\n",
       "    end\n",
       "end"
      ]
     },
     "execution_count": 30,
     "metadata": {},
     "output_type": "execute_result"
    }
   ],
   "source": [
    "qu = quote\n",
    "    a = 3b\n",
    "end\n",
    "cc = Expr(:if)\n",
    "push!(qu.args,cc)\n",
    "push!(cc.args,:(x<3))\n",
    "push!(cc.args,:(2*a; a^2))\n",
    "push!(cc.args,Expr(:elseif))\n",
    "ce = cc.args[3]\n",
    "push!(ce.args,:y)\n",
    "push!(ce.args,:b)\n",
    "push!(ce.args,:c)\n",
    "qu"
   ]
  },
  {
   "cell_type": "code",
   "execution_count": 31,
   "id": "214c417f",
   "metadata": {
    "ExecuteTime": {
     "end_time": "2021-07-20T09:42:11.369000+02:00",
     "start_time": "2021-07-20T07:42:11.226Z"
    }
   },
   "outputs": [],
   "source": [
    "using MacroTools"
   ]
  },
  {
   "cell_type": "code",
   "execution_count": 56,
   "id": "e9c2f600",
   "metadata": {
    "ExecuteTime": {
     "end_time": "2021-07-20T09:50:45.080000+02:00",
     "start_time": "2021-07-20T07:50:44.897Z"
    }
   },
   "outputs": [],
   "source": [
    "struct TstIterG{M} n::Int end\n",
    "\n",
    "function Base.iterate(iter::TstIterG{M}) where M\n",
    "    I = M > 0 ? ntuple(i->1,Val(M)) : ntuple(i->i,Val(-M))\n",
    "    I, I\n",
    "end\n",
    "# function iterate_code(M)\n",
    "#     Is = Any[Symbol(:i,i) for i=1:M]\n",
    "#     code = quote\n",
    "#         ($(Is...),) = state\n",
    "#     end\n",
    "#     Iexpr = Expr(:(=),:(valid,I),Expr(:if))\n",
    "#     currif = Iexpr.args[2]\n",
    "#     push!(code.args,Iexpr)\n",
    "#     for d = 1:M\n",
    "#         maxv = d<M ? Is[d+1] : :(iter.n)\n",
    "#         push!(currif.args, :( $(Is[d]) < $maxv ) )\n",
    "#         Is[d] = :( $(Symbol(:i,d)) + 1 )\n",
    "#         push!(currif.args, :( (true, ($(Is...),)) ))\n",
    "#         Is[d] = 1\n",
    "#         push!(currif.args, d<M ? Expr(:elseif) : :((false,state)))\n",
    "#         currif = currif.args[3]\n",
    "#     end\n",
    "#     push!(code.args, :( valid ? (I,I) : nothing) )\n",
    "#     code\n",
    "# end\n",
    "function iterate_code(M)\n",
    "    Is = Any[:(state[$i]) for i=1:abs(M)]\n",
    "    code = quote end\n",
    "    for d = 1:abs(M)\n",
    "        maxv = d==abs(M) ? :(iter.n) : (M>0 ? Is[d+1] : :($(Is[d+1])-1))\n",
    "        Is[d] = :( state[$d] + 1 )\n",
    "        push!(code.args, :( state[$d] < $maxv && (I=($(Is...),); return (I,I)) ) )\n",
    "        Is[d] = M>0 ? 1 : d\n",
    "    end\n",
    "    push!(code.args, :(nothing) )\n",
    "    code\n",
    "end\n",
    "\n",
    "@generated function Base.iterate(iter::TstIterG{M}, state::NTuple{N,Int}) where {M,N}\n",
    "    @assert N == abs(M)\n",
    "    iterate_code(M)\n",
    "end"
   ]
  },
  {
   "cell_type": "code",
   "execution_count": 57,
   "id": "dd4cc4eb",
   "metadata": {
    "ExecuteTime": {
     "end_time": "2021-07-20T09:50:46.665000+02:00",
     "start_time": "2021-07-20T07:50:46.427Z"
    }
   },
   "outputs": [
    {
     "data": {
      "text/plain": [
       "quote\n",
       "    state[1] < state[2] - 1 && begin\n",
       "            I = (state[1] + 1, state[2], state[3], state[4], state[5])\n",
       "            return (I, I)\n",
       "        end\n",
       "    state[2] < state[3] - 1 && begin\n",
       "            I = (1, state[2] + 1, state[3], state[4], state[5])\n",
       "            return (I, I)\n",
       "        end\n",
       "    state[3] < state[4] - 1 && begin\n",
       "            I = (1, 2, state[3] + 1, state[4], state[5])\n",
       "            return (I, I)\n",
       "        end\n",
       "    state[4] < state[5] - 1 && begin\n",
       "            I = (1, 2, 3, state[4] + 1, state[5])\n",
       "            return (I, I)\n",
       "        end\n",
       "    state[5] < iter.n && begin\n",
       "            I = (1, 2, 3, 4, state[5] + 1)\n",
       "            return (I, I)\n",
       "        end\n",
       "    nothing\n",
       "end"
      ]
     },
     "execution_count": 57,
     "metadata": {},
     "output_type": "execute_result"
    }
   ],
   "source": [
    "MacroTools.prettify(iterate_code(-5))"
   ]
  },
  {
   "cell_type": "code",
   "execution_count": 61,
   "id": "4ab855db",
   "metadata": {
    "ExecuteTime": {
     "end_time": "2021-07-20T09:53:46.329000+02:00",
     "start_time": "2021-07-20T07:53:02.249Z"
    }
   },
   "outputs": [
    {
     "name": "stdout",
     "output_type": "stream",
     "text": [
      "\n",
      "n: 10, d: 2, SI:    1.692 ns (0 allocations: 0 bytes)\n",
      "n: 10, d: 2, SIg:   1.690 ns (0 allocations: 0 bytes)\n",
      "n: 10, d: 2, AI:    1.695 ns (0 allocations: 0 bytes)\n",
      "n: 10, d: 2, AIg:   1.691 ns (0 allocations: 0 bytes)\n",
      "\n",
      "n: 10, d: 3, SI:    22.032 ns (0 allocations: 0 bytes)\n",
      "n: 10, d: 3, SIg:   27.699 ns (0 allocations: 0 bytes)\n",
      "n: 10, d: 3, AI:    18.691 ns (0 allocations: 0 bytes)\n",
      "n: 10, d: 3, AIg:   19.358 ns (0 allocations: 0 bytes)\n",
      "\n",
      "n: 10, d: 4, SI:    130.031 ns (0 allocations: 0 bytes)\n",
      "n: 10, d: 4, SIg:   129.341 ns (0 allocations: 0 bytes)\n",
      "n: 10, d: 4, AI:    78.528 ns (0 allocations: 0 bytes)\n",
      "n: 10, d: 4, AIg:   78.560 ns (0 allocations: 0 bytes)\n",
      "\n",
      "n: 20, d: 2, SI:    2.090 ns (0 allocations: 0 bytes)\n",
      "n: 20, d: 2, SIg:   2.023 ns (0 allocations: 0 bytes)\n",
      "n: 20, d: 2, AI:    2.021 ns (0 allocations: 0 bytes)\n",
      "n: 20, d: 2, AIg:   2.020 ns (0 allocations: 0 bytes)\n",
      "\n",
      "n: 20, d: 3, SI:    38.699 ns (0 allocations: 0 bytes)\n",
      "n: 20, d: 3, SIg:   38.692 ns (0 allocations: 0 bytes)\n",
      "n: 20, d: 3, AI:    36.025 ns (0 allocations: 0 bytes)\n",
      "n: 20, d: 3, AIg:   35.366 ns (0 allocations: 0 bytes)\n",
      "\n",
      "n: 20, d: 4, SI:    428.080 ns (0 allocations: 0 bytes)\n",
      "n: 20, d: 4, SIg:   427.719 ns (0 allocations: 0 bytes)\n",
      "n: 20, d: 4, AI:    366.507 ns (0 allocations: 0 bytes)\n",
      "n: 20, d: 4, AIg:   364.702 ns (0 allocations: 0 bytes)\n"
     ]
    }
   ],
   "source": [
    "fbench = x -> count(i->true,x)\n",
    "#fbench = consume\n",
    "for n in (10,20) #,30,40,50)\n",
    "    for d in 2:4\n",
    "        SI = SymIndexIter(d,n)\n",
    "        AI = SymIndexIter(-d,n)\n",
    "        SIg = TstIterG{d}(n)\n",
    "        AIg = TstIterG{-d}(n)\n",
    "        @assert fbench(SI)==fbench(SIg)\n",
    "        @assert fbench(AI)==fbench(AIg)\n",
    "        print(\"n: $n, d: $d, SI:  \"); @btime $fbench($SI)\n",
    "        print(\"n: $n, d: $d, SIg: \"); @btime $fbench($SIg)\n",
    "        print(\"n: $n, d: $d, AI:  \"); @btime $fbench($AI)\n",
    "        print(\"n: $n, d: $d, AIg: \"); @btime $fbench($AIg)\n",
    "        println()\n",
    "    end\n",
    "end"
   ]
  },
  {
   "cell_type": "code",
   "execution_count": 40,
   "id": "f69bbba3",
   "metadata": {
    "ExecuteTime": {
     "end_time": "2021-07-19T11:34:12.423000+02:00",
     "start_time": "2021-07-19T09:34:06.840Z"
    }
   },
   "outputs": [
    {
     "data": {
      "text/plain": [
       "BechmarkTools.Trial: 10000 samples with 950 evaluations.\n",
       " Range \u001b[90m(\u001b[39m\u001b[36m\u001b[1mmin\u001b[22m\u001b[39m … \u001b[35mmax\u001b[39m\u001b[90m):  \u001b[39m\u001b[36m\u001b[1m 95.438 ns\u001b[22m\u001b[39m … \u001b[35m134.545 ns\u001b[39m  \u001b[90m┊\u001b[39m GC \u001b[90m(\u001b[39mmin … max\u001b[90m): \u001b[39m0.00% … 0.00%\n",
       " Time  \u001b[90m(\u001b[39m\u001b[34m\u001b[1mmedian\u001b[22m\u001b[39m\u001b[90m):     \u001b[39m\u001b[34m\u001b[1m 98.429 ns               \u001b[22m\u001b[39m\u001b[90m┊\u001b[39m GC \u001b[90m(\u001b[39mmedian\u001b[90m):    \u001b[39m0.00%\n",
       " Time  \u001b[90m(\u001b[39m\u001b[32m\u001b[1mmean\u001b[22m\u001b[39m ± \u001b[32mσ\u001b[39m\u001b[90m):   \u001b[39m\u001b[32m\u001b[1m102.057 ns\u001b[22m\u001b[39m ± \u001b[32m  4.958 ns\u001b[39m  \u001b[90m┊\u001b[39m GC \u001b[90m(\u001b[39mmean ± σ\u001b[90m):  \u001b[39m0.00% ± 0.00%\n",
       "\n",
       "  \u001b[39m▂\u001b[39m \u001b[39m \u001b[39m \u001b[39m \u001b[39m \u001b[39m \u001b[34m█\u001b[39m\u001b[39m \u001b[39m \u001b[39m \u001b[39m \u001b[39m▁\u001b[39m▃\u001b[39m▂\u001b[32m▅\u001b[39m\u001b[39m \u001b[39m \u001b[39m \u001b[39m \u001b[39m \u001b[39m▁\u001b[39m \u001b[39m▇\u001b[39m \u001b[39m \u001b[39m \u001b[39m \u001b[39m \u001b[39m \u001b[39m \u001b[39m▂\u001b[39m▁\u001b[39m▄\u001b[39m \u001b[39m \u001b[39m \u001b[39m \u001b[39m \u001b[39m \u001b[39m \u001b[39m \u001b[39m \u001b[39m \u001b[39m \u001b[39m \u001b[39m \u001b[39m \u001b[39m \u001b[39m \u001b[39m \u001b[39m \u001b[39m \u001b[39m \u001b[39m \u001b[39m \u001b[39m \u001b[39m \u001b[39m \u001b[39m \u001b[39m \u001b[39m \u001b[39m▂\n",
       "  \u001b[39m█\u001b[39m▁\u001b[39m▁\u001b[39m▁\u001b[39m▁\u001b[39m▁\u001b[39m▁\u001b[34m█\u001b[39m\u001b[39m▅\u001b[39m▃\u001b[39m▃\u001b[39m▄\u001b[39m█\u001b[39m█\u001b[39m█\u001b[32m█\u001b[39m\u001b[39m█\u001b[39m▃\u001b[39m▁\u001b[39m▁\u001b[39m▁\u001b[39m█\u001b[39m▆\u001b[39m█\u001b[39m▅\u001b[39m▅\u001b[39m▃\u001b[39m▃\u001b[39m▄\u001b[39m▃\u001b[39m█\u001b[39m█\u001b[39m█\u001b[39m█\u001b[39m▅\u001b[39m▆\u001b[39m▅\u001b[39m▅\u001b[39m▆\u001b[39m▆\u001b[39m▆\u001b[39m█\u001b[39m▇\u001b[39m▇\u001b[39m▆\u001b[39m▆\u001b[39m▆\u001b[39m▆\u001b[39m▆\u001b[39m▆\u001b[39m▆\u001b[39m▆\u001b[39m▆\u001b[39m▆\u001b[39m▆\u001b[39m▇\u001b[39m▇\u001b[39m▆\u001b[39m▆\u001b[39m▆\u001b[39m▇\u001b[39m \u001b[39m█\n",
       "  95.4 ns\u001b[90m       \u001b[39m\u001b[90mHistogram: \u001b[39m\u001b[90m\u001b[1mlog(\u001b[22m\u001b[39m\u001b[90mfrequency\u001b[39m\u001b[90m\u001b[1m)\u001b[22m\u001b[39m\u001b[90m by time\u001b[39m        121 ns \u001b[0m\u001b[1m<\u001b[22m\n",
       "\n",
       " Memory estimate\u001b[90m: \u001b[39m\u001b[33m0 bytes\u001b[39m, allocs estimate\u001b[90m: \u001b[39m\u001b[33m0\u001b[39m."
      ]
     },
     "execution_count": 40,
     "metadata": {},
     "output_type": "execute_result"
    }
   ],
   "source": [
    "@benchmark consume(SI) setup=(SI=TstIter(3,50)) seconds=1"
   ]
  },
  {
   "cell_type": "code",
   "execution_count": 183,
   "id": "392d2083",
   "metadata": {
    "ExecuteTime": {
     "end_time": "2021-07-18T17:43:10.195000+02:00",
     "start_time": "2021-07-18T15:43:07.486Z"
    }
   },
   "outputs": [
    {
     "name": "stdout",
     "output_type": "stream",
     "text": [
      "  1.676 μs (0 allocations: 0 bytes)\n",
      "1275\n"
     ]
    }
   ],
   "source": [
    "println(@btime consume(SI) setup=(SI=TstIter(2,50)) seconds=1)"
   ]
  },
  {
   "cell_type": "code",
   "execution_count": 42,
   "id": "3052e913",
   "metadata": {
    "ExecuteTime": {
     "end_time": "2021-07-19T11:34:30.522000+02:00",
     "start_time": "2021-07-19T09:34:26.857Z"
    }
   },
   "outputs": [
    {
     "name": "stdout",
     "output_type": "stream",
     "text": [
      "  1.382 μs (0 allocations: 0 bytes)\n",
      "1275\n",
      "  1.696 ns (0 allocations: 0 bytes)\n",
      "1275\n"
     ]
    }
   ],
   "source": [
    "println(@btime consume(SI) setup=(SI=SymArrays.SymIndexIter(2,50)) seconds=1)\n",
    "println(@btime consume(SI) setup=(SI=TstIter(2,50)) seconds=1)"
   ]
  },
  {
   "cell_type": "code",
   "execution_count": 166,
   "id": "70bcdd53",
   "metadata": {
    "ExecuteTime": {
     "end_time": "2021-07-18T17:39:59.355000+02:00",
     "start_time": "2021-07-18T15:39:54.410Z"
    }
   },
   "outputs": [
    {
     "name": "stdout",
     "output_type": "stream",
     "text": [
      "  1.537 μs (0 allocations: 0 bytes)\n",
      "22100\n",
      "  94.773 ns (0 allocations: 0 bytes)\n",
      "22100\n"
     ]
    }
   ],
   "source": [
    "println(@btime consume(SI) setup=(SI=SymArrays.SymIndexIter(3,50)) seconds=1)\n",
    "println(@btime consume(SI) setup=(SI=TstIter(3,50)) seconds=1)"
   ]
  },
  {
   "cell_type": "code",
   "execution_count": 43,
   "id": "fe183595",
   "metadata": {
    "ExecuteTime": {
     "end_time": "2021-07-18T16:30:41.754000+02:00",
     "start_time": "2021-07-18T14:30:41.566Z"
    }
   },
   "outputs": [
    {
     "name": "stdout",
     "output_type": "stream",
     "text": [
      "(1, 1, 1)\n",
      "(5, 5, 5)\n",
      "[(1, 1, 1), (1, 1, 2), (1, 2, 2), (2, 2, 2), (1, 1, 3), (1, 2, 3), (2, 2, 3), (1, 3, 3), (2, 3, 3), (3, 3, 3), (1, 1, 4), (1, 2, 4), (2, 2, 4), (1, 3, 4), (2, 3, 4), (3, 3, 4), (1, 4, 4), (2, 4, 4), (3, 4, 4), (4, 4, 4), (1, 1, 5), (1, 2, 5), (2, 2, 5), (1, 3, 5), (2, 3, 5), (3, 3, 5), (1, 4, 5), (2, 4, 5), (3, 4, 5), (4, 4, 5), (1, 5, 5), (2, 5, 5), (3, 5, 5), (4, 5, 5), (5, 5, 5)]\n"
     ]
    }
   ],
   "source": [
    "SI = SymArrays.SymIndexIter(3,5)\n",
    "println(first(SI))\n",
    "println(last(SI))\n",
    "println(collect(SI))"
   ]
  },
  {
   "cell_type": "code",
   "execution_count": 37,
   "id": "0901d595",
   "metadata": {
    "ExecuteTime": {
     "end_time": "2021-07-18T16:30:17.339000+02:00",
     "start_time": "2021-07-18T14:30:17.161Z"
    }
   },
   "outputs": [
    {
     "name": "stdout",
     "output_type": "stream",
     "text": [
      "(1, 1, 1)\n",
      "(5, 5, 5)\n",
      "[(1, 1, 1), (1, 1, 2), (1, 2, 2), (2, 2, 2), (1, 1, 3), (1, 2, 3), (2, 2, 3), (1, 3, 3), (2, 3, 3), (3, 3, 3), (1, 1, 4), (1, 2, 4), (2, 2, 4), (1, 3, 4), (2, 3, 4), (3, 3, 4), (1, 4, 4), (2, 4, 4), (3, 4, 4), (4, 4, 4), (1, 1, 5), (1, 2, 5), (2, 2, 5), (1, 3, 5), (2, 3, 5), (3, 3, 5), (1, 4, 5), (2, 4, 5), (3, 4, 5), (4, 4, 5), (1, 5, 5), (2, 5, 5), (3, 5, 5), (4, 5, 5), (5, 5, 5)]\n"
     ]
    }
   ],
   "source": [
    "SI = SymArrays.SymIndexIter(3,5)\n",
    "println(first(SI))\n",
    "println(last(SI))\n",
    "println(collect(SI))"
   ]
  },
  {
   "cell_type": "code",
   "execution_count": 153,
   "id": "bddacb53",
   "metadata": {
    "ExecuteTime": {
     "end_time": "2021-07-18T13:01:32.199000+02:00",
     "start_time": "2021-07-18T11:01:31.985Z"
    }
   },
   "outputs": [],
   "source": [
    "using SymArrays: symgrp_sortedsub2ind, asymgrp_sortedsub2ind"
   ]
  },
  {
   "cell_type": "code",
   "execution_count": 154,
   "id": "51b5c3ae",
   "metadata": {
    "ExecuteTime": {
     "end_time": "2021-07-18T13:01:34.500000+02:00",
     "start_time": "2021-07-18T11:01:34.200Z"
    }
   },
   "outputs": [
    {
     "data": {
      "text/plain": [
       "quote\n",
       "    #= In[154]:5 =#\n",
       "    Isrtd1 = TupleTools.sort((I[1], I[2], I[3], I[4], I[5]))\n",
       "    (p2, Isrtd2) = sort_track_parity((I[6], I[7]))\n",
       "    Isrtd3 = TupleTools.sort((I[8], I[9], I[10]))\n",
       "    (p4, Isrtd4) = sort_track_parity((I[11], I[12], I[13]))\n",
       "    (1 * p2 * 1 * p4, (symgrp_sortedsub2ind(Isrtd1...), asymgrp_sortedsub2ind(Isrtd2...), symgrp_sortedsub2ind(Isrtd3...), asymgrp_sortedsub2ind(Isrtd4...)))\n",
       "end"
      ]
     },
     "execution_count": 154,
     "metadata": {},
     "output_type": "execute_result"
    }
   ],
   "source": [
    "function _sub2grp_code(Nsyms)\n",
    "    permsigns = []\n",
    "    result = []\n",
    "    ii::Int = 0\n",
    "    code = quote end\n",
    "    for (isym,Nsym) in enumerate(Nsyms)\n",
    "        Isrtd = Symbol(:Isrtd,isym)\n",
    "        Ilocs = [ :(I[$(ii+=1)]) for _=1:abs(Nsym) ]\n",
    "        Iloc = :( ($(Ilocs...),) )\n",
    "        #println(Iloc)\n",
    "        if Nsym > 0\n",
    "            push!(code.args, :( $Isrtd = TupleTools.sort($Iloc) ))\n",
    "            push!(permsigns, 1)\n",
    "            push!(result, :( symgrp_sortedsub2ind($Isrtd...) ))\n",
    "        else\n",
    "            psym = Symbol(:p,isym)\n",
    "            push!(code.args, :( ($psym, $Isrtd) = sort_track_parity($Iloc)) )\n",
    "            push!(permsigns, psym)\n",
    "            push!(result, :( asymgrp_sortedsub2ind($Isrtd...) ))\n",
    "        end\n",
    "    end\n",
    "    push!(code.args, :( *($(permsigns...)), ($(result...),) ))\n",
    "    code\n",
    "end\n",
    "@generated _sub2grp(A::SymArray{Nsyms,T,N}, I::Vararg{Int,N}) where {Nsyms,T,N} = _sub2grp_code(Nsyms)\n",
    "\n",
    "_sub2grp_code((5,-2,3,-3))"
   ]
  },
  {
   "cell_type": "code",
   "execution_count": 156,
   "id": "128ea525",
   "metadata": {
    "ExecuteTime": {
     "end_time": "2021-07-18T13:01:37.537000+02:00",
     "start_time": "2021-07-18T11:01:37.376Z"
    }
   },
   "outputs": [
    {
     "data": {
      "text/plain": [
       "2×2×4×4×4×3×3×3 SymArray{(2, -3, 3), Float64, 8, 3, Array{Float64, 3}}"
      ]
     },
     "execution_count": 156,
     "metadata": {},
     "output_type": "execute_result"
    }
   ],
   "source": [
    "A = SymArray{(2,-3,3),Float64}(2,2,4,4,4,3,3,3)"
   ]
  },
  {
   "cell_type": "code",
   "execution_count": 163,
   "id": "6d8c1bcf",
   "metadata": {
    "ExecuteTime": {
     "end_time": "2021-07-18T13:10:52.644000+02:00",
     "start_time": "2021-07-18T11:10:52.113Z"
    }
   },
   "outputs": [
    {
     "ename": "LoadError",
     "evalue": "BoundsError: attempt to access 4×4 Matrix{Float64} at index [1, 5]",
     "output_type": "error",
     "traceback": [
      "BoundsError: attempt to access 4×4 Matrix{Float64} at index [1, 5]",
      "",
      "Stacktrace:",
      " [1] throw_boundserror(A::Matrix{Float64}, I::Tuple{Int64, Int64})",
      "   @ Base ./abstractarray.jl:651",
      " [2] checkbounds(::Matrix{Float64}, ::Int64, ::Int64)",
      "   @ Base ./abstractarray.jl:616",
      " [3] top-level scope",
      "   @ In[163]:1",
      " [4] eval",
      "   @ ./boot.jl:360 [inlined]",
      " [5] include_string(mapexpr::typeof(REPL.softscope), mod::Module, code::String, filename::String)",
      "   @ Base ./loading.jl:1094"
     ]
    }
   ],
   "source": [
    "checkbounds(rand(4,4),1,5)"
   ]
  },
  {
   "cell_type": "code",
   "execution_count": 161,
   "id": "1e298417",
   "metadata": {
    "ExecuteTime": {
     "end_time": "2021-07-18T13:09:04.490000+02:00",
     "start_time": "2021-07-18T11:09:03.969Z"
    }
   },
   "outputs": [
    {
     "data": {
      "text/plain": [
       "false"
      ]
     },
     "execution_count": 161,
     "metadata": {},
     "output_type": "execute_result"
    }
   ],
   "source": [
    "@boundscheck false"
   ]
  },
  {
   "cell_type": "code",
   "execution_count": 160,
   "id": "07aed3de",
   "metadata": {
    "ExecuteTime": {
     "end_time": "2021-07-18T13:01:57.410000+02:00",
     "start_time": "2021-07-18T11:01:57.270Z"
    }
   },
   "outputs": [
    {
     "data": {
      "text/plain": [
       "(-1, (2, 3, 12))"
      ]
     },
     "execution_count": 160,
     "metadata": {},
     "output_type": "execute_result"
    }
   ],
   "source": [
    "_sub2grp(A,2,1,3,1,4,4,2,1)"
   ]
  },
  {
   "cell_type": "code",
   "execution_count": null,
   "id": "4f94045a",
   "metadata": {},
   "outputs": [],
   "source": [
    "\n"
   ]
  }
 ],
 "metadata": {
  "kernelspec": {
   "display_name": "Julia 1.6",
   "language": "julia",
   "name": "julia-1.6"
  },
  "language_info": {
   "file_extension": ".jl",
   "mimetype": "application/julia",
   "name": "julia",
   "version": "1.6.3"
  },
  "toc": {
   "base_numbering": 1,
   "nav_menu": {},
   "number_sections": true,
   "sideBar": true,
   "skip_h1_title": false,
   "title_cell": "Table of Contents",
   "title_sidebar": "Contents",
   "toc_cell": false,
   "toc_position": {},
   "toc_section_display": true,
   "toc_window_display": false
  },
  "varInspector": {
   "cols": {
    "lenName": 16,
    "lenType": 16,
    "lenVar": 40
   },
   "kernels_config": {
    "python": {
     "delete_cmd_postfix": "",
     "delete_cmd_prefix": "del ",
     "library": "var_list.py",
     "varRefreshCmd": "print(var_dic_list())"
    },
    "r": {
     "delete_cmd_postfix": ") ",
     "delete_cmd_prefix": "rm(",
     "library": "var_list.r",
     "varRefreshCmd": "cat(var_dic_list()) "
    }
   },
   "types_to_exclude": [
    "module",
    "function",
    "builtin_function_or_method",
    "instance",
    "_Feature"
   ],
   "window_display": false
  }
 },
 "nbformat": 4,
 "nbformat_minor": 5
}
