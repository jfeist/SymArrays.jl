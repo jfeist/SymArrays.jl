{
 "cells": [
  {
   "cell_type": "code",
   "execution_count": 21,
   "id": "77f80fc4",
   "metadata": {
    "ExecuteTime": {
     "end_time": "2021-12-05T12:36:25.838000+01:00",
     "start_time": "2021-12-05T11:36:25.593Z"
    }
   },
   "outputs": [
    {
     "name": "stdout",
     "output_type": "stream",
     "text": [
      "Julia version 1.7.0\n"
     ]
    }
   ],
   "source": [
    "using BenchmarkTools\n",
    "using Base: tail\n",
    "println(\"Julia version $VERSION\")"
   ]
  },
  {
   "cell_type": "code",
   "execution_count": 22,
   "id": "25435661",
   "metadata": {
    "ExecuteTime": {
     "end_time": "2021-12-05T12:36:25.990000+01:00",
     "start_time": "2021-12-05T11:36:25.751Z"
    }
   },
   "outputs": [
    {
     "data": {
      "text/plain": [
       "f (generic function with 1 method)"
      ]
     },
     "execution_count": 22,
     "metadata": {},
     "output_type": "execute_result"
    }
   ],
   "source": [
    "function f(iter)\n",
    "    s = 0\n",
    "    for I in iter\n",
    "        s += first(I)\n",
    "    end\n",
    "    s\n",
    "end"
   ]
  },
  {
   "cell_type": "code",
   "execution_count": 24,
   "id": "a5c119b2",
   "metadata": {
    "ExecuteTime": {
     "end_time": "2021-12-05T12:36:26.621000+01:00",
     "start_time": "2021-12-05T11:36:26.380Z"
    }
   },
   "outputs": [],
   "source": [
    "doubtup(xs...) = (xs,xs);"
   ]
  },
  {
   "cell_type": "code",
   "execution_count": 83,
   "id": "bb67430d",
   "metadata": {
    "ExecuteTime": {
     "end_time": "2021-12-06T11:32:38.016000+01:00",
     "start_time": "2021-12-06T10:32:37.832Z"
    }
   },
   "outputs": [],
   "source": [
    "symgrp_size(Nt,Nsym) = Nsym > 0 ? binomial(Nt-1+Nsym, Nsym) : binomial(Nt, -Nsym)\n",
    "struct SymIndexIter{Nsym}\n",
    "    size::Int\n",
    "end\n",
    "Base.IteratorSize(::Type{<:SymIndexIter}) = Base.HasLength()\n",
    "Base.IteratorEltype(::Type{<:SymIndexIter}) = Base.HasEltype()\n",
    "Base.ndims(::SymIndexIter{Nsym}) where Nsym = Nsym\n",
    "Base.eltype(::Type{SymIndexIter{Nsym}}) where Nsym = NTuple{Nsym,Int}\n",
    "Base.length(iter::SymIndexIter{Nsym}) where Nsym = symgrp_size(iter.size,Nsym)\n",
    "Base.first(iter::SymIndexIter{Nsym}) where Nsym = Nsym > 0 ? ntuple(one,Val(Nsym)) : ntuple(i->i,Val(-Nsym))\n",
    "Base.last(iter::SymIndexIter{Nsym}) where Nsym = Nsym>0 ? ntuple(i->iter.size,Val(Nsym)) : ntuple(i->iter.size+Nsym+i #= Nsym < 0 here =#,Val(-Nsym))\n",
    "\n",
    "@inline function Base.iterate(iter::SymIndexIter)\n",
    "    I = first(iter)\n",
    "    I, I\n",
    "end\n",
    "\n",
    "function itercode(Nsym)\n",
    "    newstate = Any[:(state[$i]) for i=1:abs(Nsym)]\n",
    "    code = Expr(:block)\n",
    "    # global dimension index\n",
    "    for d = 1:abs(Nsym)\n",
    "        maxv = d==abs(Nsym) ? :(iter.size) : (Nsym>0 ? :(state[$(d+1)]) : :(state[$(d+1)]-1))\n",
    "        newstate[d] = :( state[$d] + 1 )\n",
    "        push!(code.args, :( state[$d] < $maxv && return doubtup($(newstate...)) ))\n",
    "        newstate[d] = Nsym>0 ? 1 : d\n",
    "    end\n",
    "    push!(code.args, :( return nothing ))\n",
    "    code\n",
    "end\n",
    "@inline @generated Base.iterate(iter::SymIndexIter{Nsym}, state) where {Nsym} = itercode(Nsym)"
   ]
  },
  {
   "cell_type": "code",
   "execution_count": 88,
   "id": "8b0c2896",
   "metadata": {
    "ExecuteTime": {
     "end_time": "2021-12-06T11:33:21.098000+01:00",
     "start_time": "2021-12-06T10:33:18.691Z"
    }
   },
   "outputs": [
    {
     "name": "stdout",
     "output_type": "stream",
     "text": [
      "  769.963 ns (0 allocations: 0 bytes)\n"
     ]
    },
    {
     "data": {
      "text/plain": [
       "22100"
      ]
     },
     "execution_count": 88,
     "metadata": {},
     "output_type": "execute_result"
    }
   ],
   "source": [
    "@inline function Base.iterate(iter::SymIndexIter{2}, state)\n",
    "    state[1] < state[2]  && return doubtup(state[1]+1, state[2])\n",
    "    state[2] < iter.size && return doubtup(1,state[2]+1)\n",
    "    return nothing\n",
    "end\n",
    "\n",
    "@btime f(it) setup=(it=SymIndexIter{2}(50))"
   ]
  },
  {
   "cell_type": "code",
   "execution_count": 92,
   "id": "a3965bcb",
   "metadata": {
    "ExecuteTime": {
     "end_time": "2021-12-06T11:33:52.285000+01:00",
     "start_time": "2021-12-06T10:33:49.911Z"
    }
   },
   "outputs": [
    {
     "name": "stdout",
     "output_type": "stream",
     "text": [
      "  772.185 ns (0 allocations: 0 bytes)\n"
     ]
    },
    {
     "data": {
      "text/plain": [
       "22100"
      ]
     },
     "execution_count": 92,
     "metadata": {},
     "output_type": "execute_result"
    }
   ],
   "source": [
    "@inline @generated Base.iterate(iter::SymIndexIter{2}, state) = itercode(2)\n",
    "\n",
    "@btime f(it) setup=(it=SymIndexIter{2}(50))"
   ]
  },
  {
   "cell_type": "code",
   "execution_count": 87,
   "id": "eb65be47",
   "metadata": {
    "ExecuteTime": {
     "end_time": "2021-12-06T11:33:07.380000+01:00",
     "start_time": "2021-12-06T10:33:01.228Z"
    }
   },
   "outputs": [
    {
     "name": "stdout",
     "output_type": "stream",
     "text": [
      "  13.839 μs (0 allocations: 0 bytes)\n"
     ]
    },
    {
     "data": {
      "text/plain": [
       "22100"
      ]
     },
     "execution_count": 87,
     "metadata": {},
     "output_type": "execute_result"
    }
   ],
   "source": [
    "function Base.iterate(iter::SymIndexIter{2}, state)\n",
    "    i1,i2 = state\n",
    "    d, i1 = divrem(i1,i2)\n",
    "    I = (i1+1,i2+d)\n",
    "    ifelse(I[2]<=iter.size, (I,I), nothing)\n",
    "end\n",
    "\n",
    "@btime f(it) setup=(it=SymIndexIter{2}(50))"
   ]
  },
  {
   "cell_type": "code",
   "execution_count": 103,
   "id": "7368e438",
   "metadata": {
    "ExecuteTime": {
     "end_time": "2021-12-06T11:38:05.206000+01:00",
     "start_time": "2021-12-06T10:38:02.859Z"
    }
   },
   "outputs": [
    {
     "data": {
      "text/plain": [
       "BenchmarkTools.Trial: 10000 samples with 10 evaluations.\n",
       " Range \u001b[90m(\u001b[39m\u001b[36m\u001b[1mmin\u001b[22m\u001b[39m … \u001b[35mmax\u001b[39m\u001b[90m):  \u001b[39m\u001b[36m\u001b[1m1.942 μs\u001b[22m\u001b[39m … \u001b[35m  4.128 μs\u001b[39m  \u001b[90m┊\u001b[39m GC \u001b[90m(\u001b[39mmin … max\u001b[90m): \u001b[39m0.00% … 0.00%\n",
       " Time  \u001b[90m(\u001b[39m\u001b[34m\u001b[1mmedian\u001b[22m\u001b[39m\u001b[90m):     \u001b[39m\u001b[34m\u001b[1m2.038 μs               \u001b[22m\u001b[39m\u001b[90m┊\u001b[39m GC \u001b[90m(\u001b[39mmedian\u001b[90m):    \u001b[39m0.00%\n",
       " Time  \u001b[90m(\u001b[39m\u001b[32m\u001b[1mmean\u001b[22m\u001b[39m ± \u001b[32mσ\u001b[39m\u001b[90m):   \u001b[39m\u001b[32m\u001b[1m2.065 μs\u001b[22m\u001b[39m ± \u001b[32m153.358 ns\u001b[39m  \u001b[90m┊\u001b[39m GC \u001b[90m(\u001b[39mmean ± σ\u001b[90m):  \u001b[39m0.00% ± 0.00%\n",
       "\n",
       "  \u001b[39m▂\u001b[39m \u001b[39m▁\u001b[39m▂\u001b[39m \u001b[39m \u001b[39m▄\u001b[39m▅\u001b[39m▆\u001b[39m█\u001b[34m█\u001b[39m\u001b[39m▅\u001b[39m \u001b[32m \u001b[39m\u001b[39m▂\u001b[39m▃\u001b[39m▃\u001b[39m▅\u001b[39m▅\u001b[39m▂\u001b[39m \u001b[39m \u001b[39m \u001b[39m \u001b[39m \u001b[39m \u001b[39m \u001b[39m \u001b[39m \u001b[39m \u001b[39m \u001b[39m \u001b[39m \u001b[39m \u001b[39m \u001b[39m \u001b[39m \u001b[39m \u001b[39m \u001b[39m \u001b[39m \u001b[39m \u001b[39m \u001b[39m \u001b[39m \u001b[39m \u001b[39m \u001b[39m \u001b[39m \u001b[39m \u001b[39m \u001b[39m \u001b[39m \u001b[39m \u001b[39m \u001b[39m \u001b[39m \u001b[39m \u001b[39m \u001b[39m \u001b[39m▂\n",
       "  \u001b[39m█\u001b[39m▇\u001b[39m█\u001b[39m█\u001b[39m▁\u001b[39m▁\u001b[39m█\u001b[39m█\u001b[39m█\u001b[39m█\u001b[34m█\u001b[39m\u001b[39m█\u001b[39m▄\u001b[32m▃\u001b[39m\u001b[39m█\u001b[39m█\u001b[39m█\u001b[39m█\u001b[39m█\u001b[39m█\u001b[39m▁\u001b[39m▁\u001b[39m▁\u001b[39m▁\u001b[39m▁\u001b[39m▁\u001b[39m▁\u001b[39m▁\u001b[39m▃\u001b[39m▁\u001b[39m▃\u001b[39m▁\u001b[39m▃\u001b[39m▁\u001b[39m▁\u001b[39m▃\u001b[39m▅\u001b[39m▅\u001b[39m▆\u001b[39m▇\u001b[39m▇\u001b[39m▇\u001b[39m▇\u001b[39m▇\u001b[39m▇\u001b[39m▆\u001b[39m▆\u001b[39m▄\u001b[39m▆\u001b[39m▄\u001b[39m▅\u001b[39m▅\u001b[39m▅\u001b[39m▅\u001b[39m▄\u001b[39m▅\u001b[39m▄\u001b[39m▄\u001b[39m▃\u001b[39m \u001b[39m█\n",
       "  1.94 μs\u001b[90m      \u001b[39m\u001b[90mHistogram: \u001b[39m\u001b[90m\u001b[1mlog(\u001b[22m\u001b[39m\u001b[90mfrequency\u001b[39m\u001b[90m\u001b[1m)\u001b[22m\u001b[39m\u001b[90m by time\u001b[39m      2.51 μs \u001b[0m\u001b[1m<\u001b[22m\n",
       "\n",
       " Memory estimate\u001b[90m: \u001b[39m\u001b[33m0 bytes\u001b[39m, allocs estimate\u001b[90m: \u001b[39m\u001b[33m0\u001b[39m."
      ]
     },
     "execution_count": 103,
     "metadata": {},
     "output_type": "execute_result"
    }
   ],
   "source": [
    "struct SymIndexIter2{Nsym}\n",
    "    size::Int\n",
    "    \"create an iterator that gives i1<=i2<=i3 etc for one index group\"\n",
    "    SymIndexIter2(Nsym,size) = new{Nsym}(size)\n",
    "end\n",
    "Base.IteratorSize(::Type{<:SymIndexIter2}) = Base.HasLength()\n",
    "Base.IteratorEltype(::Type{<:SymIndexIter2}) = Base.HasEltype()\n",
    "Base.ndims(::SymIndexIter2{Nsym}) where Nsym = Nsym\n",
    "Base.eltype(::Type{SymIndexIter2{Nsym}}) where Nsym = NTuple{Nsym,Int}\n",
    "Base.length(iter::SymIndexIter2{Nsym}) where Nsym = symgrp_size(iter.size,Nsym)\n",
    "Base.first(iter::SymIndexIter2{Nsym}) where Nsym = Nsym > 0 ? ntuple(one,Val(Nsym)) : ntuple(i->i,Val(-Nsym))\n",
    "Base.last(iter::SymIndexIter2{Nsym}) where Nsym = Nsym>0 ? ntuple(i->iter.size,Val(Nsym)) : ntuple(i->iter.size+Nsym+i #= Nsym < 0 here =#,Val(-Nsym))\n",
    "\n",
    "@inline function Base.iterate(iter::SymIndexIter2)\n",
    "    I = first(iter)\n",
    "    I, I\n",
    "end\n",
    "@inline function Base.iterate(iter::SymIndexIter2, state)\n",
    "    valid, I = __inc(iter, state)\n",
    "    valid ? (I, I) : nothing\n",
    "end\n",
    "\n",
    "@inline function __inc(iter::SymIndexIter2{Nsym}, state::NTuple{N,Int}) where {Nsym,N}\n",
    "    if state[1] + (Nsym<0) < state[2]\n",
    "        return true, (state[1]+1, tail(state)...)\n",
    "    end\n",
    "    valid, I = __inc(iter, tail(state))\n",
    "    # if Nsym<0, lowest possible value for nth index is n\n",
    "    In = Nsym>0 ? 1 : (1 - Nsym - N)\n",
    "    return valid, (In, I...)\n",
    "end\n",
    "@inline function __inc(iter::SymIndexIter2, state::Tuple{Int})\n",
    "    # last index can go until iter.size independent of (anti-)symmetry\n",
    "    state[1] < iter.size, (state[1]+1,)\n",
    "end\n",
    "\n",
    "@benchmark f(it) setup=(it=SymIndexIter2(2,50))"
   ]
  }
 ],
 "metadata": {
  "hide_input": false,
  "kernelspec": {
   "display_name": "Julia 1.7",
   "language": "julia",
   "name": "julia-1.7"
  },
  "language_info": {
   "file_extension": ".jl",
   "mimetype": "application/julia",
   "name": "julia",
   "version": "1.7.0"
  },
  "toc": {
   "base_numbering": 1,
   "nav_menu": {},
   "number_sections": true,
   "sideBar": true,
   "skip_h1_title": false,
   "title_cell": "Table of Contents",
   "title_sidebar": "Contents",
   "toc_cell": false,
   "toc_position": {},
   "toc_section_display": true,
   "toc_window_display": false
  },
  "varInspector": {
   "cols": {
    "lenName": 16,
    "lenType": 16,
    "lenVar": 40
   },
   "kernels_config": {
    "python": {
     "delete_cmd_postfix": "",
     "delete_cmd_prefix": "del ",
     "library": "var_list.py",
     "varRefreshCmd": "print(var_dic_list())"
    },
    "r": {
     "delete_cmd_postfix": ") ",
     "delete_cmd_prefix": "rm(",
     "library": "var_list.r",
     "varRefreshCmd": "cat(var_dic_list()) "
    }
   },
   "types_to_exclude": [
    "module",
    "function",
    "builtin_function_or_method",
    "instance",
    "_Feature"
   ],
   "window_display": false
  }
 },
 "nbformat": 4,
 "nbformat_minor": 5
}
