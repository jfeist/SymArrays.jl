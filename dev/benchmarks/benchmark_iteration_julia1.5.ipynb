{
 "cells": [
  {
   "cell_type": "code",
   "execution_count": 1,
   "id": "7313d04f",
   "metadata": {
    "ExecuteTime": {
     "end_time": "2021-12-14T16:27:14.169000+01:00",
     "start_time": "2021-12-14T15:27:12.807Z"
    }
   },
   "outputs": [
    {
     "name": "stderr",
     "output_type": "stream",
     "text": [
      "\u001b[32m\u001b[1m Activating\u001b[22m\u001b[39m environment at `~/.julia/dev/SymArrays/examples/v1.5/Project.toml`\n"
     ]
    }
   ],
   "source": [
    "using Pkg; Pkg.activate(\"v1.5\")"
   ]
  },
  {
   "cell_type": "code",
   "execution_count": 2,
   "id": "77f80fc4",
   "metadata": {
    "ExecuteTime": {
     "end_time": "2021-12-14T16:27:26.342000+01:00",
     "start_time": "2021-12-14T15:27:12.809Z"
    }
   },
   "outputs": [
    {
     "name": "stdout",
     "output_type": "stream",
     "text": [
      "Julia version 1.5.1\n"
     ]
    }
   ],
   "source": [
    "using Printf\n",
    "using BenchmarkTools\n",
    "using SymArrays\n",
    "using SymArrays: SymIndexIter\n",
    "println(\"Julia version $VERSION\")"
   ]
  },
  {
   "cell_type": "code",
   "execution_count": 3,
   "id": "f12151d1",
   "metadata": {
    "ExecuteTime": {
     "end_time": "2021-12-14T16:27:26.570000+01:00",
     "start_time": "2021-12-14T15:27:12.810Z"
    }
   },
   "outputs": [],
   "source": [
    "sumfirstinds(iter) = (s=0; for I in iter s+=first(Tuple(I)) end; s)\n",
    "sumvals(iter) = reduce(+, iter);"
   ]
  },
  {
   "cell_type": "code",
   "execution_count": 4,
   "id": "cac6a1ab",
   "metadata": {
    "ExecuteTime": {
     "end_time": "2021-12-14T16:27:26.572000+01:00",
     "start_time": "2021-12-14T15:27:12.811Z"
    }
   },
   "outputs": [],
   "source": [
    "ttt(iter) = (s=0; for ii in 1:length(iter) s+=first(SymArrays.ind2sub_symgrp(iter,ii)) end; s);"
   ]
  },
  {
   "cell_type": "code",
   "execution_count": 5,
   "id": "0fb634fd",
   "metadata": {
    "ExecuteTime": {
     "end_time": "2021-12-14T16:27:40.060000+01:00",
     "start_time": "2021-12-14T15:27:12.813Z"
    }
   },
   "outputs": [
    {
     "name": "stdout",
     "output_type": "stream",
     "text": [
      "  14.329 ms (0 allocations: 0 bytes)\n"
     ]
    },
    {
     "data": {
      "text/plain": [
       "3162510"
      ]
     },
     "execution_count": 5,
     "metadata": {},
     "output_type": "execute_result"
    }
   ],
   "source": [
    "@btime ttt(SI)          setup=(SI=SymIndexIter(4,50))"
   ]
  },
  {
   "cell_type": "code",
   "execution_count": 6,
   "id": "831e4544",
   "metadata": {
    "ExecuteTime": {
     "end_time": "2021-12-14T16:27:46.968000+01:00",
     "start_time": "2021-12-14T15:27:12.814Z"
    }
   },
   "outputs": [
    {
     "name": "stdout",
     "output_type": "stream",
     "text": [
      "  54.309 μs (0 allocations: 0 bytes)\n"
     ]
    },
    {
     "data": {
      "text/plain": [
       "3162510"
      ]
     },
     "execution_count": 6,
     "metadata": {},
     "output_type": "execute_result"
    }
   ],
   "source": [
    "@btime sumfirstinds(SI) setup=(SI=SymIndexIter(4,50))"
   ]
  },
  {
   "cell_type": "code",
   "execution_count": 7,
   "id": "4fda9db2",
   "metadata": {
    "ExecuteTime": {
     "end_time": "2021-12-14T16:29:15.446000+01:00",
     "start_time": "2021-12-14T15:27:12.816Z"
    }
   },
   "outputs": [
    {
     "name": "stdout",
     "output_type": "stream",
     "text": [
      "n = 10:\n",
      "  M =  1:  1.811 ns (0 allocations: 0 bytes)\n",
      "  M = -1:  1.813 ns (0 allocations: 0 bytes)\n",
      "  M =  2:  29.670 ns (0 allocations: 0 bytes)\n",
      "  M = -2:  21.816 ns (0 allocations: 0 bytes)\n",
      "  M =  3:  138.932 ns (0 allocations: 0 bytes)\n",
      "  M = -3:  112.557 ns (0 allocations: 0 bytes)\n",
      "  M =  4:  636.545 ns (0 allocations: 0 bytes)\n",
      "  M = -4:  288.615 ns (0 allocations: 0 bytes)\n",
      "\n",
      "n = 50:\n",
      "  M =  1:  2.164 ns (0 allocations: 0 bytes)\n",
      "  M = -1:  2.164 ns (0 allocations: 0 bytes)\n",
      "  M =  2:  118.159 ns (0 allocations: 0 bytes)\n",
      "  M = -2:  128.920 ns (0 allocations: 0 bytes)\n",
      "  M =  3:  3.165 μs (0 allocations: 0 bytes)\n",
      "  M = -3:  2.909 μs (0 allocations: 0 bytes)\n",
      "  M =  4:  59.724 μs (0 allocations: 0 bytes)\n",
      "  M = -4:  48.967 μs (0 allocations: 0 bytes)\n",
      "\n",
      "n = 200:\n",
      "  M =  1:  1.879 ns (0 allocations: 0 bytes)\n",
      "  M = -1:  1.811 ns (0 allocations: 0 bytes)\n",
      "  M =  2:  491.714 ns (0 allocations: 0 bytes)\n",
      "  M = -2:  456.335 ns (0 allocations: 0 bytes)\n",
      "  M =  3:  44.040 μs (0 allocations: 0 bytes)\n",
      "  M = -3:  45.357 μs (0 allocations: 0 bytes)\n",
      "  M =  4:  3.340 ms (0 allocations: 0 bytes)\n",
      "  M = -4:  3.090 ms (0 allocations: 0 bytes)\n"
     ]
    }
   ],
   "source": [
    "for n in (10, 50, 200)\n",
    "    n != 10 && println()\n",
    "    println(\"n = $n:\")\n",
    "    for N in 1:4, M in (N,-N)\n",
    "        iter = SymIndexIter(M,n)\n",
    "        # check that number of elements is correct\n",
    "        @assert count(x->true,iter) == length(iter)\n",
    "\n",
    "        @printf(\"  M = %2d:\", M)\n",
    "        @btime sumfirstinds($iter)\n",
    "    end\n",
    "end"
   ]
  },
  {
   "cell_type": "code",
   "execution_count": 8,
   "id": "09a5518a",
   "metadata": {
    "ExecuteTime": {
     "end_time": "2021-12-14T16:30:39.915000+01:00",
     "start_time": "2021-12-14T15:27:12.817Z"
    }
   },
   "outputs": [
    {
     "name": "stdout",
     "output_type": "stream",
     "text": [
      "typeof(S): SymArray{(3,),Float64,3,1,Array{Float64,1}}           , size(S): (50, 50, 50), length(S): 22100, full length(S): 125000\n",
      "  3.089 μs (0 allocations: 0 bytes)\n",
      "  151.094 μs (0 allocations: 0 bytes)\n",
      "typeof(S): SymArray{(-3,),Float64,3,1,Array{Float64,1}}          , size(S): (50, 50, 50), length(S): 19600, full length(S): 125000\n",
      "  3.077 μs (0 allocations: 0 bytes)\n",
      "  156.750 μs (0 allocations: 0 bytes)\n",
      "typeof(S): SymArray{(3, -2, 2),Float64,7,3,Array{Float64,3}}     , size(S): (2, 2, 2, 3, 3, 4, 4), length(S): 120, full length(S): 1152\n",
      "  450.576 ns (0 allocations: 0 bytes)\n",
      "  2.041 μs (0 allocations: 0 bytes)\n",
      "typeof(S): SymArray{(3, 2, 2),Float64,7,3,Array{Float64,3}}      , size(S): (2, 2, 2, 3, 3, 4, 4), length(S): 240, full length(S): 1152\n",
      "  981.769 ns (0 allocations: 0 bytes)\n",
      "  3.235 μs (0 allocations: 0 bytes)\n",
      "typeof(S): SymArray{(-3, -4),Float64,7,2,Array{Float64,2}}       , size(S): (8, 8, 8, 5, 5, 5, 5), length(S): 280, full length(S): 320000\n",
      "  329.154 ns (0 allocations: 0 bytes)\n",
      "  5.939 μs (0 allocations: 0 bytes)\n",
      "typeof(S): SymArray{(3, -2, 2),Float64,7,3,Array{Float64,3}}     , size(S): (2, 2, 2, 30, 30, 4, 4), length(S): 17400, full length(S): 115200\n",
      "  66.999 μs (0 allocations: 0 bytes)\n",
      "  299.508 μs (0 allocations: 0 bytes)\n",
      "typeof(S): SymArray{(3, 2, 2),Float64,7,3,Array{Float64,3}}      , size(S): (2, 2, 2, 30, 30, 4, 4), length(S): 18600, full length(S): 115200\n",
      "  66.433 μs (0 allocations: 0 bytes)\n",
      "  251.228 μs (0 allocations: 0 bytes)\n",
      "typeof(S): SymArray{(-3, -4),Float64,7,2,Array{Float64,2}}       , size(S): (20, 20, 20, 5, 5, 5, 5), length(S): 5700, full length(S): 5000000\n",
      "  2.431 μs (0 allocations: 0 bytes)\n",
      "  121.181 μs (0 allocations: 0 bytes)\n"
     ]
    }
   ],
   "source": [
    "for S in (SymArray{(3,),Float64}(50,50,50),\n",
    "          SymArray{(-3,),Float64}(50,50,50),\n",
    "          SymArray{(3,-2,2),Float64}(2,2,2,3,3,4,4),\n",
    "          SymArray{(3,2,2),Float64}(2,2,2,3,3,4,4),\n",
    "          SymArray{(-3,-4),Float64}(8,8,8,5,5,5,5),\n",
    "          SymArray{(3,-2,2),Float64}(2,2,2,30,30,4,4),\n",
    "          SymArray{(3,2,2),Float64}(2,2,2,30,30,4,4),\n",
    "          SymArray{(-3,-4),Float64}(20,20,20,5,5,5,5))\n",
    "    @printf(\"typeof(S): %-54s, size(S): %s, length(S): %d, full length(S): %d\\n\", typeof(S), size(S), length(S), prod(size(S)))\n",
    "    fill!(S,1.)\n",
    "    @btime sumfirstinds($(eachindex(S)))\n",
    "    @btime sumvals($S)\n",
    "end"
   ]
  }
 ],
 "metadata": {
  "hide_input": false,
  "kernelspec": {
   "display_name": "Julia 1.5.1",
   "language": "julia",
   "name": "julia-1.5"
  },
  "language_info": {
   "file_extension": ".jl",
   "mimetype": "application/julia",
   "name": "julia",
   "version": "1.5.1"
  },
  "toc": {
   "base_numbering": 1,
   "nav_menu": {},
   "number_sections": true,
   "sideBar": true,
   "skip_h1_title": false,
   "title_cell": "Table of Contents",
   "title_sidebar": "Contents",
   "toc_cell": false,
   "toc_position": {},
   "toc_section_display": true,
   "toc_window_display": false
  },
  "varInspector": {
   "cols": {
    "lenName": 16,
    "lenType": 16,
    "lenVar": 40
   },
   "kernels_config": {
    "python": {
     "delete_cmd_postfix": "",
     "delete_cmd_prefix": "del ",
     "library": "var_list.py",
     "varRefreshCmd": "print(var_dic_list())"
    },
    "r": {
     "delete_cmd_postfix": ") ",
     "delete_cmd_prefix": "rm(",
     "library": "var_list.r",
     "varRefreshCmd": "cat(var_dic_list()) "
    }
   },
   "types_to_exclude": [
    "module",
    "function",
    "builtin_function_or_method",
    "instance",
    "_Feature"
   ],
   "window_display": false
  }
 },
 "nbformat": 4,
 "nbformat_minor": 5
}
