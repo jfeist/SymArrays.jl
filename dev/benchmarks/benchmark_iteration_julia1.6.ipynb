{
 "cells": [
  {
   "cell_type": "code",
   "execution_count": 1,
   "id": "7313d04f",
   "metadata": {
    "ExecuteTime": {
     "end_time": "2021-12-14T16:27:08.704000+01:00",
     "start_time": "2021-12-14T15:27:07.178Z"
    }
   },
   "outputs": [
    {
     "name": "stderr",
     "output_type": "stream",
     "text": [
      "\u001b[32m\u001b[1m  Activating\u001b[22m\u001b[39m environment at `~/.julia/dev/SymArrays/examples/Project.toml`\n"
     ]
    }
   ],
   "source": [
    "using Pkg; Pkg.activate(\".\")"
   ]
  },
  {
   "cell_type": "code",
   "execution_count": 2,
   "id": "77f80fc4",
   "metadata": {
    "ExecuteTime": {
     "end_time": "2021-12-14T16:27:31.670000+01:00",
     "start_time": "2021-12-14T15:27:07.180Z"
    }
   },
   "outputs": [
    {
     "name": "stderr",
     "output_type": "stream",
     "text": [
      "┌ Info: Precompiling SymArrays [c2b21f84-4a8e-4c96-99a2-2b79df568f75]\n",
      "└ @ Base loading.jl:1342\n"
     ]
    },
    {
     "name": "stdout",
     "output_type": "stream",
     "text": [
      "Julia version 1.6.4\n"
     ]
    }
   ],
   "source": [
    "using Printf\n",
    "using BenchmarkTools\n",
    "using SymArrays\n",
    "using SymArrays: SymIndexIter\n",
    "println(\"Julia version $VERSION\")"
   ]
  },
  {
   "cell_type": "code",
   "execution_count": 3,
   "id": "f12151d1",
   "metadata": {
    "ExecuteTime": {
     "end_time": "2021-12-14T16:27:35.219000+01:00",
     "start_time": "2021-12-14T15:27:07.181Z"
    }
   },
   "outputs": [],
   "source": [
    "sumfirstinds(iter) = (s=0; for I in iter s+=first(Tuple(I)) end; s)\n",
    "sumvals(iter) = reduce(+, iter);"
   ]
  },
  {
   "cell_type": "code",
   "execution_count": 4,
   "id": "cac6a1ab",
   "metadata": {
    "ExecuteTime": {
     "end_time": "2021-12-14T16:27:35.221000+01:00",
     "start_time": "2021-12-14T15:27:07.182Z"
    }
   },
   "outputs": [],
   "source": [
    "ttt(iter) = (s=0; for ii in 1:length(iter) s+=first(SymArrays.ind2sub_symgrp(iter,ii)) end; s);"
   ]
  },
  {
   "cell_type": "code",
   "execution_count": 5,
   "id": "0fb634fd",
   "metadata": {
    "ExecuteTime": {
     "end_time": "2021-12-14T16:27:48.851000+01:00",
     "start_time": "2021-12-14T15:27:07.184Z"
    }
   },
   "outputs": [
    {
     "name": "stdout",
     "output_type": "stream",
     "text": [
      "  13.414 ms (0 allocations: 0 bytes)\n"
     ]
    },
    {
     "data": {
      "text/plain": [
       "3162510"
      ]
     },
     "execution_count": 5,
     "metadata": {},
     "output_type": "execute_result"
    }
   ],
   "source": [
    "@btime ttt(SI)          setup=(SI=SymIndexIter(4,50))"
   ]
  },
  {
   "cell_type": "code",
   "execution_count": 6,
   "id": "831e4544",
   "metadata": {
    "ExecuteTime": {
     "end_time": "2021-12-14T16:27:55.649000+01:00",
     "start_time": "2021-12-14T15:27:07.185Z"
    }
   },
   "outputs": [
    {
     "name": "stdout",
     "output_type": "stream",
     "text": [
      "  47.406 μs (0 allocations: 0 bytes)\n"
     ]
    },
    {
     "data": {
      "text/plain": [
       "3162510"
      ]
     },
     "execution_count": 6,
     "metadata": {},
     "output_type": "execute_result"
    }
   ],
   "source": [
    "@btime sumfirstinds(SI) setup=(SI=SymIndexIter(4,50))"
   ]
  },
  {
   "cell_type": "code",
   "execution_count": 7,
   "id": "4fda9db2",
   "metadata": {
    "ExecuteTime": {
     "end_time": "2021-12-14T16:29:28.550000+01:00",
     "start_time": "2021-12-14T15:27:07.187Z"
    }
   },
   "outputs": [
    {
     "name": "stdout",
     "output_type": "stream",
     "text": [
      "n = 10:\n",
      "  M =  1:  2.173 ns (0 allocations: 0 bytes)\n",
      "  M = -1:  2.827 ns (0 allocations: 0 bytes)\n",
      "  M =  2:  68.361 ns (0 allocations: 0 bytes)\n",
      "  M = -2:  62.818 ns (0 allocations: 0 bytes)\n",
      "  M =  3:  136.056 ns (0 allocations: 0 bytes)\n",
      "  M = -3:  94.582 ns (0 allocations: 0 bytes)\n",
      "  M =  4:  579.967 ns (0 allocations: 0 bytes)\n",
      "  M = -4:  243.629 ns (0 allocations: 0 bytes)\n",
      "\n",
      "n = 50:\n",
      "  M =  1:  1.820 ns (0 allocations: 0 bytes)\n",
      "  M = -1:  1.821 ns (0 allocations: 0 bytes)\n",
      "  M =  2:  1.563 μs (0 allocations: 0 bytes)\n",
      "  M = -2:  1.793 μs (0 allocations: 0 bytes)\n",
      "  M =  3:  2.630 μs (0 allocations: 0 bytes)\n",
      "  M = -3:  2.453 μs (0 allocations: 0 bytes)\n",
      "  M =  4:  47.694 μs (0 allocations: 0 bytes)\n",
      "  M = -4:  39.839 μs (0 allocations: 0 bytes)\n",
      "\n",
      "n = 200:\n",
      "  M =  1:  2.173 ns (0 allocations: 0 bytes)\n",
      "  M = -1:  2.172 ns (0 allocations: 0 bytes)\n",
      "  M =  2:  23.604 μs (0 allocations: 0 bytes)\n",
      "  M = -2:  29.116 μs (0 allocations: 0 bytes)\n",
      "  M =  3:  37.905 μs (0 allocations: 0 bytes)\n",
      "  M = -3:  37.313 μs (0 allocations: 0 bytes)\n",
      "  M =  4:  2.626 ms (0 allocations: 0 bytes)\n",
      "  M = -4:  2.494 ms (0 allocations: 0 bytes)\n"
     ]
    }
   ],
   "source": [
    "for n in (10, 50, 200)\n",
    "    n != 10 && println()\n",
    "    println(\"n = $n:\")\n",
    "    for N in 1:4, M in (N,-N)\n",
    "        iter = SymIndexIter(M,n)\n",
    "        # check that number of elements is correct\n",
    "        @assert count(x->true,iter) == length(iter)\n",
    "\n",
    "        @printf(\"  M = %2d:\", M)\n",
    "        @btime sumfirstinds($iter)\n",
    "    end\n",
    "end"
   ]
  },
  {
   "cell_type": "code",
   "execution_count": 8,
   "id": "09a5518a",
   "metadata": {
    "ExecuteTime": {
     "end_time": "2021-12-14T16:30:50.885000+01:00",
     "start_time": "2021-12-14T15:27:07.194Z"
    }
   },
   "outputs": [
    {
     "name": "stdout",
     "output_type": "stream",
     "text": [
      "typeof(S): SymArray{(3,), Float64, 3, 1, Vector{Float64}}        , size(S): (50, 50, 50), length(S): 22100, full length(S): 125000\n",
      "  2.631 μs (0 allocations: 0 bytes)\n",
      "  150.491 μs (0 allocations: 0 bytes)\n",
      "typeof(S): SymArray{(-3,), Float64, 3, 1, Vector{Float64}}       , size(S): (50, 50, 50), length(S): 19600, full length(S): 125000\n",
      "  2.446 μs (0 allocations: 0 bytes)\n",
      "  164.134 μs (0 allocations: 0 bytes)\n",
      "typeof(S): SymArray{(3, -2, 2), Float64, 7, 3, Array{Float64, 3}}, size(S): (2, 2, 2, 3, 3, 4, 4), length(S): 120, full length(S): 1152\n",
      "  395.612 ns (0 allocations: 0 bytes)\n",
      "  1.846 μs (0 allocations: 0 bytes)\n",
      "typeof(S): SymArray{(3, 2, 2), Float64, 7, 3, Array{Float64, 3}} , size(S): (2, 2, 2, 3, 3, 4, 4), length(S): 240, full length(S): 1152\n",
      "  798.347 ns (0 allocations: 0 bytes)\n",
      "  2.765 μs (0 allocations: 0 bytes)\n",
      "typeof(S): SymArray{(-3, -4), Float64, 7, 2, Matrix{Float64}}    , size(S): (8, 8, 8, 5, 5, 5, 5), length(S): 280, full length(S): 320000\n",
      "  294.761 ns (0 allocations: 0 bytes)\n",
      "  6.327 μs (0 allocations: 0 bytes)\n",
      "typeof(S): SymArray{(3, -2, 2), Float64, 7, 3, Array{Float64, 3}}, size(S): (2, 2, 2, 30, 30, 4, 4), length(S): 17400, full length(S): 115200\n",
      "  54.617 μs (0 allocations: 0 bytes)\n",
      "  268.919 μs (0 allocations: 0 bytes)\n",
      "typeof(S): SymArray{(3, 2, 2), Float64, 7, 3, Array{Float64, 3}} , size(S): (2, 2, 2, 30, 30, 4, 4), length(S): 18600, full length(S): 115200\n",
      "  58.797 μs (0 allocations: 0 bytes)\n",
      "  211.200 μs (0 allocations: 0 bytes)\n",
      "typeof(S): SymArray{(-3, -4), Float64, 7, 2, Matrix{Float64}}    , size(S): (20, 20, 20, 5, 5, 5, 5), length(S): 5700, full length(S): 5000000\n",
      "  1.985 μs (0 allocations: 0 bytes)\n",
      "  128.523 μs (0 allocations: 0 bytes)\n"
     ]
    }
   ],
   "source": [
    "for S in (SymArray{(3,),Float64}(50,50,50),\n",
    "          SymArray{(-3,),Float64}(50,50,50),\n",
    "          SymArray{(3,-2,2),Float64}(2,2,2,3,3,4,4),\n",
    "          SymArray{(3,2,2),Float64}(2,2,2,3,3,4,4),\n",
    "          SymArray{(-3,-4),Float64}(8,8,8,5,5,5,5),\n",
    "          SymArray{(3,-2,2),Float64}(2,2,2,30,30,4,4),\n",
    "          SymArray{(3,2,2),Float64}(2,2,2,30,30,4,4),\n",
    "          SymArray{(-3,-4),Float64}(20,20,20,5,5,5,5))\n",
    "    @printf(\"typeof(S): %-54s, size(S): %s, length(S): %d, full length(S): %d\\n\", typeof(S), size(S), length(S), prod(size(S)))\n",
    "    fill!(S,1.)\n",
    "    @btime sumfirstinds($(eachindex(S)))\n",
    "    @btime sumvals($S)\n",
    "end"
   ]
  }
 ],
 "metadata": {
  "hide_input": false,
  "kernelspec": {
   "display_name": "Julia 1.6",
   "language": "julia",
   "name": "julia-1.6"
  },
  "language_info": {
   "file_extension": ".jl",
   "mimetype": "application/julia",
   "name": "julia",
   "version": "1.6.4"
  },
  "toc": {
   "base_numbering": 1,
   "nav_menu": {},
   "number_sections": true,
   "sideBar": true,
   "skip_h1_title": false,
   "title_cell": "Table of Contents",
   "title_sidebar": "Contents",
   "toc_cell": false,
   "toc_position": {},
   "toc_section_display": true,
   "toc_window_display": false
  },
  "varInspector": {
   "cols": {
    "lenName": 16,
    "lenType": 16,
    "lenVar": 40
   },
   "kernels_config": {
    "python": {
     "delete_cmd_postfix": "",
     "delete_cmd_prefix": "del ",
     "library": "var_list.py",
     "varRefreshCmd": "print(var_dic_list())"
    },
    "r": {
     "delete_cmd_postfix": ") ",
     "delete_cmd_prefix": "rm(",
     "library": "var_list.r",
     "varRefreshCmd": "cat(var_dic_list()) "
    }
   },
   "types_to_exclude": [
    "module",
    "function",
    "builtin_function_or_method",
    "instance",
    "_Feature"
   ],
   "window_display": false
  }
 },
 "nbformat": 4,
 "nbformat_minor": 5
}
