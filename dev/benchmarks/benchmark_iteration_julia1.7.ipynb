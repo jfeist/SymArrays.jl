{
 "cells": [
  {
   "cell_type": "code",
   "execution_count": 1,
   "id": "7313d04f",
   "metadata": {
    "ExecuteTime": {
     "end_time": "2021-12-14T16:27:17.139000+01:00",
     "start_time": "2021-12-14T15:27:15.988Z"
    }
   },
   "outputs": [
    {
     "name": "stderr",
     "output_type": "stream",
     "text": [
      "\u001b[32m\u001b[1m  Activating\u001b[22m\u001b[39m project at `~/.julia/dev/SymArrays/examples`\n"
     ]
    }
   ],
   "source": [
    "using Pkg; Pkg.activate(\".\")"
   ]
  },
  {
   "cell_type": "code",
   "execution_count": 2,
   "id": "77f80fc4",
   "metadata": {
    "ExecuteTime": {
     "end_time": "2021-12-14T16:27:36.995000+01:00",
     "start_time": "2021-12-14T15:27:15.990Z"
    }
   },
   "outputs": [
    {
     "name": "stdout",
     "output_type": "stream",
     "text": [
      "Julia version 1.7.0\n"
     ]
    },
    {
     "name": "stderr",
     "output_type": "stream",
     "text": [
      "┌ Info: Precompiling SymArrays [c2b21f84-4a8e-4c96-99a2-2b79df568f75]\n",
      "└ @ Base loading.jl:1423\n"
     ]
    }
   ],
   "source": [
    "using Printf\n",
    "using BenchmarkTools\n",
    "using SymArrays\n",
    "using SymArrays: SymIndexIter\n",
    "println(\"Julia version $VERSION\")"
   ]
  },
  {
   "cell_type": "code",
   "execution_count": 3,
   "id": "f12151d1",
   "metadata": {
    "ExecuteTime": {
     "end_time": "2021-12-14T16:27:40.143000+01:00",
     "start_time": "2021-12-14T15:27:15.991Z"
    }
   },
   "outputs": [],
   "source": [
    "sumfirstinds(iter) = (s=0; for I in iter s+=first(Tuple(I)) end; s)\n",
    "sumvals(iter) = reduce(+, iter);"
   ]
  },
  {
   "cell_type": "code",
   "execution_count": 4,
   "id": "cac6a1ab",
   "metadata": {
    "ExecuteTime": {
     "end_time": "2021-12-14T16:27:40.145000+01:00",
     "start_time": "2021-12-14T15:27:15.992Z"
    }
   },
   "outputs": [],
   "source": [
    "ttt(iter) = (s=0; for ii in 1:length(iter) s+=first(SymArrays.ind2sub_symgrp(iter,ii)) end; s);"
   ]
  },
  {
   "cell_type": "code",
   "execution_count": 5,
   "id": "0fb634fd",
   "metadata": {
    "ExecuteTime": {
     "end_time": "2021-12-14T16:27:54.454000+01:00",
     "start_time": "2021-12-14T15:27:15.994Z"
    }
   },
   "outputs": [
    {
     "name": "stdout",
     "output_type": "stream",
     "text": [
      "  13.715 ms (0 allocations: 0 bytes)\n"
     ]
    },
    {
     "data": {
      "text/plain": [
       "3162510"
      ]
     },
     "execution_count": 5,
     "metadata": {},
     "output_type": "execute_result"
    }
   ],
   "source": [
    "@btime ttt(SI)          setup=(SI=SymIndexIter(4,50))"
   ]
  },
  {
   "cell_type": "code",
   "execution_count": 6,
   "id": "831e4544",
   "metadata": {
    "ExecuteTime": {
     "end_time": "2021-12-14T16:28:03.147000+01:00",
     "start_time": "2021-12-14T15:27:15.995Z"
    }
   },
   "outputs": [
    {
     "name": "stdout",
     "output_type": "stream",
     "text": [
      "  221.104 μs (0 allocations: 0 bytes)\n"
     ]
    },
    {
     "data": {
      "text/plain": [
       "3162510"
      ]
     },
     "execution_count": 6,
     "metadata": {},
     "output_type": "execute_result"
    }
   ],
   "source": [
    "@btime sumfirstinds(SI) setup=(SI=SymIndexIter(4,50))"
   ]
  },
  {
   "cell_type": "code",
   "execution_count": 7,
   "id": "4fda9db2",
   "metadata": {
    "ExecuteTime": {
     "end_time": "2021-12-14T16:29:55.152000+01:00",
     "start_time": "2021-12-14T15:27:15.997Z"
    }
   },
   "outputs": [
    {
     "name": "stdout",
     "output_type": "stream",
     "text": [
      "n = 10:\n",
      "  M =  1:  2.253 ns (0 allocations: 0 bytes)\n",
      "  M = -1:  2.251 ns (0 allocations: 0 bytes)\n",
      "  M =  2:  48.586 ns (0 allocations: 0 bytes)\n",
      "  M = -2:  37.539 ns (0 allocations: 0 bytes)\n",
      "  M =  3:  226.823 ns (0 allocations: 0 bytes)\n",
      "  M = -3:  125.763 ns (0 allocations: 0 bytes)\n",
      "  M =  4:  857.175 ns (0 allocations: 0 bytes)\n",
      "  M = -4:  262.569 ns (0 allocations: 0 bytes)\n",
      "\n",
      "n = 50:\n",
      "  M =  1:  1.819 ns (0 allocations: 0 bytes)\n",
      "  M = -1:  2.252 ns (0 allocations: 0 bytes)\n",
      "  M =  2:  913.658 ns (0 allocations: 0 bytes)\n",
      "  M = -2:  844.234 ns (0 allocations: 0 bytes)\n",
      "  M =  3:  15.335 μs (0 allocations: 0 bytes)\n",
      "  M = -3:  15.591 μs (0 allocations: 0 bytes)\n",
      "  M =  4:  205.859 μs (0 allocations: 0 bytes)\n",
      "  M = -4:  147.769 μs (0 allocations: 0 bytes)\n",
      "\n",
      "n = 200:\n",
      "  M =  1:  2.251 ns (0 allocations: 0 bytes)\n",
      "  M = -1:  1.824 ns (0 allocations: 0 bytes)\n",
      "  M =  2:  9.943 μs (0 allocations: 0 bytes)\n",
      "  M = -2:  23.059 μs (0 allocations: 0 bytes)\n",
      "  M =  3:  734.565 μs (0 allocations: 0 bytes)\n",
      "  M = -3:  1.548 ms (0 allocations: 0 bytes)\n",
      "  M =  4:  40.580 ms (0 allocations: 0 bytes)\n",
      "  M = -4:  80.356 ms (0 allocations: 0 bytes)\n"
     ]
    }
   ],
   "source": [
    "for n in (10, 50, 200)\n",
    "    n != 10 && println()\n",
    "    println(\"n = $n:\")\n",
    "    for N in 1:4, M in (N,-N)\n",
    "        iter = SymIndexIter(M,n)\n",
    "        # check that number of elements is correct\n",
    "        @assert count(x->true,iter) == length(iter)\n",
    "\n",
    "        @printf(\"  M = %2d:\", M)\n",
    "        @btime sumfirstinds($iter)\n",
    "    end\n",
    "end"
   ]
  },
  {
   "cell_type": "code",
   "execution_count": 8,
   "id": "09a5518a",
   "metadata": {
    "ExecuteTime": {
     "end_time": "2021-12-14T16:31:24.453000+01:00",
     "start_time": "2021-12-14T15:27:15.998Z"
    }
   },
   "outputs": [
    {
     "name": "stdout",
     "output_type": "stream",
     "text": [
      "typeof(S): SymArray{(3,), Float64, 3, 1, Vector{Float64}}        , size(S): (50, 50, 50), length(S): 22100, full length(S): 125000\n",
      "  13.430 μs (0 allocations: 0 bytes)\n",
      "  148.917 μs (0 allocations: 0 bytes)\n",
      "typeof(S): SymArray{(-3,), Float64, 3, 1, Vector{Float64}}       , size(S): (50, 50, 50), length(S): 19600, full length(S): 125000\n",
      "  12.976 μs (0 allocations: 0 bytes)\n",
      "  154.704 μs (0 allocations: 0 bytes)\n",
      "typeof(S): SymArray{(3, -2, 2), Float64, 7, 3, Array{Float64, 3}}, size(S): (2, 2, 2, 3, 3, 4, 4), length(S): 120, full length(S): 1152\n",
      "  264.473 ns (0 allocations: 0 bytes)\n",
      "  1.746 μs (0 allocations: 0 bytes)\n",
      "typeof(S): SymArray{(3, 2, 2), Float64, 7, 3, Array{Float64, 3}} , size(S): (2, 2, 2, 3, 3, 4, 4), length(S): 240, full length(S): 1152\n",
      "  541.593 ns (0 allocations: 0 bytes)\n",
      "  2.543 μs (0 allocations: 0 bytes)\n",
      "typeof(S): SymArray{(-3, -4), Float64, 7, 2, Matrix{Float64}}    , size(S): (8, 8, 8, 5, 5, 5, 5), length(S): 280, full length(S): 320000\n",
      "  324.764 ns (0 allocations: 0 bytes)\n",
      "  6.094 μs (0 allocations: 0 bytes)\n",
      "typeof(S): SymArray{(3, -2, 2), Float64, 7, 3, Array{Float64, 3}}, size(S): (2, 2, 2, 30, 30, 4, 4), length(S): 17400, full length(S): 115200\n",
      "  34.204 μs (0 allocations: 0 bytes)\n",
      "  234.500 μs (0 allocations: 0 bytes)\n",
      "typeof(S): SymArray{(3, 2, 2), Float64, 7, 3, Array{Float64, 3}} , size(S): (2, 2, 2, 30, 30, 4, 4), length(S): 18600, full length(S): 115200\n",
      "  40.780 μs (0 allocations: 0 bytes)\n",
      "  185.998 μs (0 allocations: 0 bytes)\n",
      "typeof(S): SymArray{(-3, -4), Float64, 7, 2, Matrix{Float64}}    , size(S): (20, 20, 20, 5, 5, 5, 5), length(S): 5700, full length(S): 5000000\n",
      "  4.533 μs (0 allocations: 0 bytes)\n",
      "  121.329 μs (0 allocations: 0 bytes)\n"
     ]
    }
   ],
   "source": [
    "for S in (SymArray{(3,),Float64}(50,50,50),\n",
    "          SymArray{(-3,),Float64}(50,50,50),\n",
    "          SymArray{(3,-2,2),Float64}(2,2,2,3,3,4,4),\n",
    "          SymArray{(3,2,2),Float64}(2,2,2,3,3,4,4),\n",
    "          SymArray{(-3,-4),Float64}(8,8,8,5,5,5,5),\n",
    "          SymArray{(3,-2,2),Float64}(2,2,2,30,30,4,4),\n",
    "          SymArray{(3,2,2),Float64}(2,2,2,30,30,4,4),\n",
    "          SymArray{(-3,-4),Float64}(20,20,20,5,5,5,5))\n",
    "    @printf(\"typeof(S): %-54s, size(S): %s, length(S): %d, full length(S): %d\\n\", typeof(S), size(S), length(S), prod(size(S)))\n",
    "    fill!(S,1.)\n",
    "    @btime sumfirstinds($(eachindex(S)))\n",
    "    @btime sumvals($S)\n",
    "end"
   ]
  }
 ],
 "metadata": {
  "hide_input": false,
  "kernelspec": {
   "display_name": "Julia 1.7",
   "language": "julia",
   "name": "julia-1.7"
  },
  "language_info": {
   "file_extension": ".jl",
   "mimetype": "application/julia",
   "name": "julia",
   "version": "1.7.0"
  },
  "toc": {
   "base_numbering": 1,
   "nav_menu": {},
   "number_sections": true,
   "sideBar": true,
   "skip_h1_title": false,
   "title_cell": "Table of Contents",
   "title_sidebar": "Contents",
   "toc_cell": false,
   "toc_position": {},
   "toc_section_display": true,
   "toc_window_display": false
  },
  "varInspector": {
   "cols": {
    "lenName": 16,
    "lenType": 16,
    "lenVar": 40
   },
   "kernels_config": {
    "python": {
     "delete_cmd_postfix": "",
     "delete_cmd_prefix": "del ",
     "library": "var_list.py",
     "varRefreshCmd": "print(var_dic_list())"
    },
    "r": {
     "delete_cmd_postfix": ") ",
     "delete_cmd_prefix": "rm(",
     "library": "var_list.r",
     "varRefreshCmd": "cat(var_dic_list()) "
    }
   },
   "types_to_exclude": [
    "module",
    "function",
    "builtin_function_or_method",
    "instance",
    "_Feature"
   ],
   "window_display": false
  }
 },
 "nbformat": 4,
 "nbformat_minor": 5
}
