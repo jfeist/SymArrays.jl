{
 "cells": [
  {
   "cell_type": "code",
   "execution_count": 1,
   "metadata": {
    "ExecuteTime": {
     "end_time": "2021-10-23T12:31:34.274000+02:00",
     "start_time": "2021-10-23T10:31:32.317Z"
    }
   },
   "outputs": [],
   "source": [
    "ENV[\"JULIA_REVISE_POLL\"] = \"1\"\n",
    "using Revise"
   ]
  },
  {
   "cell_type": "code",
   "execution_count": 2,
   "metadata": {
    "ExecuteTime": {
     "end_time": "2021-10-23T12:31:36.309000+02:00",
     "start_time": "2021-10-23T10:31:32.751Z"
    }
   },
   "outputs": [
    {
     "name": "stderr",
     "output_type": "stream",
     "text": [
      "\u001b[32m\u001b[1m  Activating\u001b[22m\u001b[39m environment at `~/.julia/dev/SymArrays/Project.toml`\n"
     ]
    }
   ],
   "source": [
    "using Pkg\n",
    "Pkg.activate(\"..\")"
   ]
  },
  {
   "cell_type": "code",
   "execution_count": 3,
   "metadata": {
    "ExecuteTime": {
     "end_time": "2021-10-23T12:31:54.012000+02:00",
     "start_time": "2021-10-23T10:31:33.270Z"
    }
   },
   "outputs": [],
   "source": [
    "using SymArrays\n",
    "using BenchmarkTools\n",
    "using TensorOperations\n",
    "using Random\n",
    "using CUDA\n",
    "CUDA.allowscalar(false)"
   ]
  },
  {
   "cell_type": "code",
   "execution_count": 4,
   "metadata": {
    "ExecuteTime": {
     "end_time": "2021-10-23T13:28:53.326000+02:00",
     "start_time": "2021-10-23T11:28:12.664Z"
    }
   },
   "outputs": [],
   "source": [
    "N = 300\n",
    "A = CUDA.rand(Float64,N)\n",
    "S = SymArray{(3,),Float64}(CuArray,N,N,N);\n",
    "S.data .= 1:length(S)\n",
    "B = CuArray(collect(collect(S)))\n",
    "C1 = SymArray{(2,),Float64}(CuArray,N,N)\n",
    "C2 = copy(C1)\n",
    "@tensor C3[j,k] := A[i]*B[i,j,k]\n",
    "contract!(C1,A,S,Val(1),Val(1))\n",
    "# this is the \"hand-written\" version where A has to be 1D\n",
    "#contract!(C2,A,S,Val(1))\n",
    "#@assert C1 ≈ C2\n",
    "@assert collect(C1) ≈ collect(C3)"
   ]
  },
  {
   "cell_type": "code",
   "execution_count": 41,
   "metadata": {
    "ExecuteTime": {
     "end_time": "2021-10-23T00:01:45.460000+02:00",
     "start_time": "2021-10-22T22:01:21.939Z"
    }
   },
   "outputs": [
    {
     "name": "stdout",
     "output_type": "stream",
     "text": [
      "  952.482 μs (38 allocations: 17.23 KiB)\n",
      "  1.562 ms (26 allocations: 1.62 KiB)\n"
     ]
    }
   ],
   "source": [
    "@btime CUDA.@sync @tensor C3[j,k] = A[i]*B[i,j,k]\n",
    "@btime CUDA.@sync contract!(C1,A,S,Val(1),Val(1))\n",
    "# @btime CUDA.@sync contract!(C1,A,S,Val(1));"
   ]
  },
  {
   "cell_type": "code",
   "execution_count": 42,
   "metadata": {
    "ExecuteTime": {
     "end_time": "2021-10-23T00:01:51.421000+02:00",
     "start_time": "2021-10-22T22:01:51.300Z"
    }
   },
   "outputs": [],
   "source": [
    "N, M = 30, 40\n",
    "A = CUDA.rand(Float64,N)\n",
    "S = SymArray{(2,1),Float64}(CuArray,N,N,M)\n",
    "S.data[:] .= 1:length(S)\n",
    "B = CuArray(collect(collect(S)))\n",
    "C1 = SymArray{(1,1),Float64}(CuArray,N,M)\n",
    "C2 = collect(C1)\n",
    "@tensor C3[j,k] := A[i]*B[i,j,k]\n",
    "contract!(C1,A,S,Val(1),Val(1))\n",
    "# this is the \"hand-written\" version where A has to be 1D\n",
    "# contract!(C2,A,S,Val(1))\n",
    "# @assert C1 ≈ C2\n",
    "@assert collect(C1) ≈ collect(C3)"
   ]
  },
  {
   "cell_type": "code",
   "execution_count": 43,
   "metadata": {
    "ExecuteTime": {
     "end_time": "2021-10-23T00:02:07.141000+02:00",
     "start_time": "2021-10-22T22:01:53.080Z"
    }
   },
   "outputs": [
    {
     "name": "stdout",
     "output_type": "stream",
     "text": [
      "  31.209 μs (38 allocations: 17.23 KiB)\n",
      "  25.419 μs (26 allocations: 1.62 KiB)\n"
     ]
    }
   ],
   "source": [
    "@btime CUDA.@sync @tensor C3[j,k] = A[i]*B[i,j,k]\n",
    "@btime CUDA.@sync contract!(C1,A,S,Val(1),Val(1))\n",
    "# @btime CUDA.@sync contract!(C2,A,S,Val(1));"
   ]
  },
  {
   "cell_type": "code",
   "execution_count": 31,
   "metadata": {
    "ExecuteTime": {
     "end_time": "2021-10-22T23:57:35.639000+02:00",
     "start_time": "2021-10-22T21:57:35.521Z"
    }
   },
   "outputs": [],
   "source": [
    "N, M = 30, 40\n",
    "A = CUDA.rand(Float64,M)\n",
    "S = SymArray{(2,1),Float64}(CuArray,N,N,M);\n",
    "S.data[:] .= 1:length(S)\n",
    "B = CuArray(collect(collect(S)))\n",
    "C1 = SymArray{(2,),Float64}(CuArray,N,N)\n",
    "C2 = copy(C1)\n",
    "@tensor C3[i,j] := A[k]*B[i,j,k]\n",
    "contract!(C1,A,S,Val(1),Val(3))\n",
    "# this is the \"hand-written\" version where A has to be 1D\n",
    "contract!(C2,A,S,Val(3))\n",
    "@assert collect(C1) ≈ collect(C2)\n",
    "@assert collect(C1) ≈ collect(C3)"
   ]
  },
  {
   "cell_type": "code",
   "execution_count": 44,
   "metadata": {
    "ExecuteTime": {
     "end_time": "2021-10-23T00:02:07.206000+02:00",
     "start_time": "2021-10-22T22:01:57.250Z"
    }
   },
   "outputs": [
    {
     "ename": "LoadError",
     "evalue": "DimensionMismatch(\"non-matching sizes in contracted dimensions\")",
     "output_type": "error",
     "traceback": [
      "DimensionMismatch(\"non-matching sizes in contracted dimensions\")",
      "",
      "Stacktrace:",
      "  [1] contract!(α::Bool, A::CuArray{Float64, 3, CUDA.Mem.DeviceBuffer}, CA::Symbol, B::CuArray{Float64, 1, CUDA.Mem.DeviceBuffer}, CB::Symbol, β::Bool, C::CuArray{Float64, 2, CUDA.Mem.DeviceBuffer}, oindA::Tuple{Int64, Int64}, cindA::Tuple{Int64}, oindB::Tuple{}, cindB::Tuple{Int64}, indCinoAB::Tuple{Int64, Int64}, syms::Tuple{Symbol, Symbol, Symbol})",
      "    @ TensorOperations /share/apps/julia/julia-1.6/depot/packages/TensorOperations/C0hRN/src/implementation/cuarray.jl:162",
      "  [2] contract!(α::Bool, A::CuArray{Float64, 3, CUDA.Mem.DeviceBuffer}, CA::Symbol, B::CuArray{Float64, 1, CUDA.Mem.DeviceBuffer}, CB::Symbol, β::Bool, C::CuArray{Float64, 2, CUDA.Mem.DeviceBuffer}, oindA::Tuple{Int64, Int64}, cindA::Tuple{Int64}, oindB::Tuple{}, cindB::Tuple{Int64}, indleft::Tuple{Int64, Int64}, indright::Tuple{}, syms::Tuple{Symbol, Symbol, Symbol})",
      "    @ TensorOperations /share/apps/julia/julia-1.6/depot/packages/TensorOperations/C0hRN/src/implementation/stridedarray.jl:89",
      "  [3] macro expansion",
      "    @ ~/.julia/packages/CUDA/YpW0k/src/utilities.jl:28 [inlined]",
      "  [4] var\"##core#1777\"()",
      "    @ Main /share/apps/julia/julia-1.6/depot/packages/BenchmarkTools/uq9zP/src/execution.jl:479",
      "  [5] var\"##sample#1778\"(__params::BenchmarkTools.Parameters)",
      "    @ Main /share/apps/julia/julia-1.6/depot/packages/BenchmarkTools/uq9zP/src/execution.jl:485",
      "  [6] _run(b::BenchmarkTools.Benchmark, p::BenchmarkTools.Parameters; verbose::Bool, pad::String, kwargs::Base.Iterators.Pairs{Symbol, Integer, NTuple{4, Symbol}, NamedTuple{(:samples, :evals, :gctrial, :gcsample), Tuple{Int64, Int64, Bool, Bool}}})",
      "    @ BenchmarkTools /share/apps/julia/julia-1.6/depot/packages/BenchmarkTools/uq9zP/src/execution.jl:98",
      "  [7] #invokelatest#2",
      "    @ ./essentials.jl:710 [inlined]",
      "  [8] #run_result#45",
      "    @ /share/apps/julia/julia-1.6/depot/packages/BenchmarkTools/uq9zP/src/execution.jl:33 [inlined]",
      "  [9] run(b::BenchmarkTools.Benchmark, p::BenchmarkTools.Parameters; progressid::Nothing, nleaves::Float64, ndone::Float64, kwargs::Base.Iterators.Pairs{Symbol, Integer, NTuple{5, Symbol}, NamedTuple{(:verbose, :samples, :evals, :gctrial, :gcsample), Tuple{Bool, Int64, Int64, Bool, Bool}}})",
      "    @ BenchmarkTools /share/apps/julia/julia-1.6/depot/packages/BenchmarkTools/uq9zP/src/execution.jl:116",
      " [10] #warmup#54",
      "    @ /share/apps/julia/julia-1.6/depot/packages/BenchmarkTools/uq9zP/src/execution.jl:168 [inlined]",
      " [11] warmup(item::BenchmarkTools.Benchmark)",
      "    @ BenchmarkTools /share/apps/julia/julia-1.6/depot/packages/BenchmarkTools/uq9zP/src/execution.jl:168",
      " [12] top-level scope",
      "    @ /share/apps/julia/julia-1.6/depot/packages/BenchmarkTools/uq9zP/src/execution.jl:565",
      " [13] eval",
      "    @ ./boot.jl:360 [inlined]",
      " [14] include_string(mapexpr::typeof(REPL.softscope), mod::Module, code::String, filename::String)",
      "    @ Base ./loading.jl:1116"
     ]
    }
   ],
   "source": [
    "@btime CUDA.@sync @tensor C3[i,j] = B[i,j,k]*A[k]\n",
    "@btime CUDA.@sync contract!(C1,A,S,Val(1),Val(3))\n",
    "# this is the \"hand-written\" version where A has to be 1D\n",
    "@btime CUDA.@sync contract!(C2,A,S,Val(3));"
   ]
  },
  {
   "cell_type": "code",
   "execution_count": 47,
   "metadata": {
    "ExecuteTime": {
     "end_time": "2021-10-23T00:02:56.803000+02:00",
     "start_time": "2021-10-22T22:02:56.636Z"
    },
    "scrolled": false
   },
   "outputs": [],
   "source": [
    "N1, N2, N3 = 10, 12, 13\n",
    "A = CUDA.rand(Float64,N1,N2,N3)\n",
    "S = SymArray{(3,2,1),Float64}(CuArray,N1,N1,N1,N2,N2,N3)\n",
    "rand!(S.data)\n",
    "# \n",
    "C11 = SymArray{(1,1,2,2,1),Float64}(CuArray,N2,N3,N1,N1,N2,N2,N3)\n",
    "C12 = copy(C11)\n",
    "C13 = copy(C11)\n",
    "contract!(C11,A,S,Val(1),Val(1))\n",
    "contract!(C12,A,S,Val(1),Val(2))\n",
    "contract!(C13,A,S,Val(1),Val(3))\n",
    "@assert C11 == C12\n",
    "@assert C11 == C13\n",
    "C24 = SymArray{(1,1,3,1,1),Float64}(CuArray,N1,N3,N1,N1,N1,N2,N3)\n",
    "contract!(C24,A,S,Val(2),Val(4))\n",
    "C25 = SymArray{(1,1,3,1,1),Float64}(CuArray,N1,N3,N1,N1,N1,N2,N3)\n",
    "contract!(C25,A,S,Val(2),Val(5))\n",
    "@assert C24 == C25\n",
    "\n",
    "C36 = SymArray{(1,1,3,2),Float64}(CuArray,N1,N2,N1,N1,N1,N2,N2)\n",
    "contract!(C36,A,S,Val(3),Val(6));"
   ]
  },
  {
   "cell_type": "code",
   "execution_count": 48,
   "metadata": {
    "ExecuteTime": {
     "end_time": "2021-10-23T00:02:58.609000+02:00",
     "start_time": "2021-10-22T22:02:57.517Z"
    }
   },
   "outputs": [],
   "source": [
    "contract!(C24,A,S,Val(2),Val(4));\n",
    "B = CuArray(collect(collect(S)))\n",
    "@tensor C24_AB[i,k,l,m,n,o,p] := A[i,j,k] * B[l,m,n,j,o,p]\n",
    "@assert collect(C24) ≈ collect(C24_AB)"
   ]
  },
  {
   "cell_type": "code",
   "execution_count": 49,
   "metadata": {
    "ExecuteTime": {
     "end_time": "2021-10-23T00:02:59.916000+02:00",
     "start_time": "2021-10-22T22:02:58.982Z"
    }
   },
   "outputs": [],
   "source": [
    "contract!(C36,A,S,Val(3),Val(6));\n",
    "B = CuArray(collect(collect(S)))\n",
    "@tensor C36_AB[i,j,l,m,n,o,p] := A[i,j,k] * B[l,m,n,o,p,k]\n",
    "@assert collect(C36) ≈ collect(C36_AB)"
   ]
  },
  {
   "cell_type": "code",
   "execution_count": 50,
   "metadata": {
    "ExecuteTime": {
     "end_time": "2021-10-23T00:03:25.678000+02:00",
     "start_time": "2021-10-22T22:03:00.629Z"
    }
   },
   "outputs": [
    {
     "name": "stdout",
     "output_type": "stream",
     "text": [
      "  4.671 ms (27 allocations: 1.64 KiB)\n",
      "  5.532 ms (36 allocations: 17.39 KiB)\n"
     ]
    }
   ],
   "source": [
    "@tensor C11_AB[j,k,l,m,n,o,p] := A[i,j,k] * B[i,l,m,n,o,p]\n",
    "@btime CUDA.@sync contract!(C11,A,S,Val(1),Val(1))\n",
    "@assert collect(C11) ≈ collect(C11_AB)\n",
    "@btime CUDA.@sync @tensor C11_AB[j,k,l,m,n,o,p] = A[i,j,k] * B[i,l,m,n,o,p];"
   ]
  },
  {
   "cell_type": "code",
   "execution_count": 51,
   "metadata": {
    "ExecuteTime": {
     "end_time": "2021-10-23T00:03:50.460000+02:00",
     "start_time": "2021-10-22T22:03:28.672Z"
    }
   },
   "outputs": [
    {
     "name": "stdout",
     "output_type": "stream",
     "text": [
      "  260.905 μs (39 allocations: 17.45 KiB)\n",
      "  2.239 ms (36 allocations: 17.39 KiB)\n"
     ]
    }
   ],
   "source": [
    "@btime CUDA.@sync contract!(C36,A,S,Val(3),Val(6));\n",
    "@btime CUDA.@sync @tensor C36_AB[i,j,l,m,n,o,p] = A[i,j,k] * B[l,m,n,o,p,k];\n",
    "@assert collect(C36) ≈ collect(C36_AB)"
   ]
  },
  {
   "cell_type": "code",
   "execution_count": 55,
   "metadata": {
    "ExecuteTime": {
     "end_time": "2021-10-23T00:07:54.616000+02:00",
     "start_time": "2021-10-22T22:05:38.658Z"
    }
   },
   "outputs": [
    {
     "name": "stdout",
     "output_type": "stream",
     "text": [
      "2 10 16\n",
      "  12.041 μs (25 allocations: 1.58 KiB)\n",
      "  38.986 μs (36 allocations: 17.17 KiB)\n",
      "4 35 256\n",
      "  26.390 μs (25 allocations: 1.58 KiB)\n",
      "  55.958 μs (36 allocations: 17.23 KiB)\n",
      "6 84 4096\n",
      "  38.143 μs (25 allocations: 1.58 KiB)\n",
      "  64.833 μs (36 allocations: 17.33 KiB)\n",
      "8 165 65536\n",
      "  61.052 μs (25 allocations: 1.58 KiB)\n",
      "  114.848 μs (36 allocations: 17.39 KiB)\n",
      "10 286 1048576\n",
      "  83.978 μs (25 allocations: 1.58 KiB)\n",
      "  951.944 μs (36 allocations: 17.48 KiB)\n",
      "12 455 16777216\n",
      "  104.330 μs (25 allocations: 1.58 KiB)\n",
      "  10.487 ms (39 allocations: 17.92 KiB)\n"
     ]
    }
   ],
   "source": [
    "@generated function benchtensor(res_B, A, B::AbstractArray{T,Ndim},::Val{mm}) where {T,Ndim,mm}\n",
    "    inds_B = Symbol.(:i,1:Ndim)\n",
    "    inds_B[mm] = :j\n",
    "    inds_res = (:i,inds_B[1:Ndim .!= mm]...)\n",
    "    :( @tensor res_B[$(inds_res...)] = A[i,j]*B[$(inds_B...)] )\n",
    "end\n",
    "\n",
    "NN = 4\n",
    "maxNdim = 12\n",
    "for Ndim = 2:2:maxNdim\n",
    "    S = SymArray{(Ndim,),Float64}(CuArray,ntuple(i->NN,Ndim)...)\n",
    "    rand!(S.data)\n",
    "    println(Ndim,\" \",length(S),\" \",prod(size(S)))\n",
    "    B = CuArray(collect(collect(S)))\n",
    "\n",
    "    A = CUDA.rand(Float64,NN,NN)\n",
    "    res = SymArray{(1,Ndim-1),Float64}(CuArray,size(S)...)\n",
    "    res_B = CuArray{Float64,Ndim}(undef,size(res))\n",
    "\n",
    "    mm = Val(Ndim÷2)\n",
    "    @btime CUDA.@sync contract!($res,$A,$S,Val(2),$mm)\n",
    "    @btime CUDA.@sync benchtensor($res_B, $A, $B, $mm)\n",
    "    \n",
    "    @assert collect(res) ≈ collect(res_B)\n",
    "end"
   ]
  }
 ],
 "metadata": {
  "@webio": {
   "lastCommId": null,
   "lastKernelId": null
  },
  "hide_input": false,
  "kernelspec": {
   "display_name": "node Julia 1 GPUs",
   "language": "",
   "name": "compute_node_julia_1gpu"
  },
  "language_info": {
   "file_extension": ".jl",
   "mimetype": "application/julia",
   "name": "julia",
   "version": "1.6.3"
  },
  "toc": {
   "base_numbering": 1,
   "nav_menu": {},
   "number_sections": true,
   "sideBar": true,
   "skip_h1_title": false,
   "title_cell": "Table of Contents",
   "title_sidebar": "Contents",
   "toc_cell": false,
   "toc_position": {},
   "toc_section_display": true,
   "toc_window_display": false
  },
  "varInspector": {
   "cols": {
    "lenName": 16,
    "lenType": 16,
    "lenVar": 40
   },
   "kernels_config": {
    "python": {
     "delete_cmd_postfix": "",
     "delete_cmd_prefix": "del ",
     "library": "var_list.py",
     "varRefreshCmd": "print(var_dic_list())"
    },
    "r": {
     "delete_cmd_postfix": ") ",
     "delete_cmd_prefix": "rm(",
     "library": "var_list.r",
     "varRefreshCmd": "cat(var_dic_list()) "
    }
   },
   "types_to_exclude": [
    "module",
    "function",
    "builtin_function_or_method",
    "instance",
    "_Feature"
   ],
   "window_display": false
  }
 },
 "nbformat": 4,
 "nbformat_minor": 2
}
