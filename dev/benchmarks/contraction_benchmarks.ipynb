{
 "cells": [
  {
   "cell_type": "code",
   "execution_count": 1,
   "metadata": {
    "ExecuteTime": {
     "end_time": "2021-10-22T23:39:00.694000+02:00",
     "start_time": "2021-10-22T21:38:58.770Z"
    }
   },
   "outputs": [],
   "source": [
    "ENV[\"JULIA_REVISE_POLL\"] = \"1\"\n",
    "using Revise"
   ]
  },
  {
   "cell_type": "code",
   "execution_count": 2,
   "metadata": {
    "ExecuteTime": {
     "end_time": "2021-10-22T23:39:02.716000+02:00",
     "start_time": "2021-10-22T21:38:59.778Z"
    }
   },
   "outputs": [
    {
     "name": "stderr",
     "output_type": "stream",
     "text": [
      "\u001b[32m\u001b[1m  Activating\u001b[22m\u001b[39m environment at `~/.julia/dev/SymArrays/Project.toml`\n"
     ]
    }
   ],
   "source": [
    "using Pkg\n",
    "Pkg.activate(\"..\")"
   ]
  },
  {
   "cell_type": "code",
   "execution_count": 3,
   "metadata": {
    "ExecuteTime": {
     "end_time": "2021-10-22T23:39:39.404000+02:00",
     "start_time": "2021-10-22T21:39:03.400Z"
    }
   },
   "outputs": [
    {
     "name": "stderr",
     "output_type": "stream",
     "text": [
      "┌ Info: Precompiling SymArrays [c2b21f84-4a8e-4c96-99a2-2b79df568f75]\n",
      "└ @ Base loading.jl:1342\n"
     ]
    }
   ],
   "source": [
    "using SymArrays\n",
    "using BenchmarkTools\n",
    "using TensorOperations\n",
    "using Random"
   ]
  },
  {
   "cell_type": "code",
   "execution_count": 5,
   "metadata": {
    "ExecuteTime": {
     "end_time": "2021-10-22T23:42:30.374000+02:00",
     "start_time": "2021-10-22T21:42:29.681Z"
    }
   },
   "outputs": [],
   "source": [
    "N = 300\n",
    "A = rand(N)\n",
    "S = SymArray{(3,),Float64}(N,N,N);\n",
    "S.data .= 1:length(S)\n",
    "B = collect(S)\n",
    "C1 = SymArray{(2,),Float64}(N,N)\n",
    "C2 = copy(C1)\n",
    "@tensor C3[j,k] := A[i]*B[i,j,k]\n",
    "contract!(C1,A,S,Val(1),Val(1))\n",
    "# this is the \"hand-written\" version where A has to be 1D\n",
    "contract!(C2,A,S,Val(1))\n",
    "@assert C1 ≈ C2\n",
    "@assert C1 ≈ C3"
   ]
  },
  {
   "cell_type": "code",
   "execution_count": 6,
   "metadata": {
    "ExecuteTime": {
     "end_time": "2021-10-22T23:43:27.910000+02:00",
     "start_time": "2021-10-22T21:42:46.953Z"
    }
   },
   "outputs": [
    {
     "name": "stdout",
     "output_type": "stream",
     "text": [
      "  42.080 ms (1 allocation: 16 bytes)\n",
      "  28.383 ms (6 allocations: 368 bytes)\n",
      "  23.791 ms (0 allocations: 0 bytes)\n"
     ]
    }
   ],
   "source": [
    "@btime @tensor C3[j,k] = A[i]*B[i,j,k]\n",
    "@btime contract!(C1,A,S,Val(1),Val(1))\n",
    "@btime contract!(C1,A,S,Val(1));"
   ]
  },
  {
   "cell_type": "code",
   "execution_count": 7,
   "metadata": {
    "ExecuteTime": {
     "end_time": "2021-10-22T23:43:35.915000+02:00",
     "start_time": "2021-10-22T21:43:34.730Z"
    }
   },
   "outputs": [],
   "source": [
    "N, M = 30, 40\n",
    "A = rand(N)\n",
    "S = SymArray{(2,1),Float64}(N,N,M)\n",
    "S.data[:] .= 1:length(S)\n",
    "B = collect(S)\n",
    "C1 = SymArray{(1,1),Float64}(N,M)\n",
    "C2 = collect(C1)\n",
    "@tensor C3[j,k] := A[i]*B[i,j,k]\n",
    "contract!(C1,A,S,Val(1),Val(1))\n",
    "# this is the \"hand-written\" version where A has to be 1D\n",
    "contract!(C2,A,S,Val(1))\n",
    "@assert C1 ≈ C2\n",
    "@assert C1 ≈ C3"
   ]
  },
  {
   "cell_type": "code",
   "execution_count": 8,
   "metadata": {
    "ExecuteTime": {
     "end_time": "2021-10-22T23:43:58.660000+02:00",
     "start_time": "2021-10-22T21:43:37.682Z"
    }
   },
   "outputs": [
    {
     "name": "stdout",
     "output_type": "stream",
     "text": [
      "  30.180 μs (1 allocation: 16 bytes)\n",
      "  79.457 μs (6 allocations: 368 bytes)\n",
      "  44.421 μs (0 allocations: 0 bytes)\n"
     ]
    }
   ],
   "source": [
    "@btime @tensor C3[j,k] = A[i]*B[i,j,k]\n",
    "@btime contract!(C1,A,S,Val(1),Val(1))\n",
    "@btime contract!(C2,A,S,Val(1));"
   ]
  },
  {
   "cell_type": "code",
   "execution_count": 9,
   "metadata": {
    "ExecuteTime": {
     "end_time": "2021-10-22T23:44:06.433000+02:00",
     "start_time": "2021-10-22T21:44:03.392Z"
    }
   },
   "outputs": [],
   "source": [
    "N, M = 30, 40\n",
    "A = rand(M)\n",
    "S = SymArray{(2,1),Float64}(N,N,M);\n",
    "S.data[:] .= 1:length(S)\n",
    "B = collect(S)\n",
    "C1 = SymArray{(2,),Float64}(N,N)\n",
    "C2 = copy(C1)\n",
    "@tensor C3[i,j] := A[k]*B[i,j,k]\n",
    "contract!(C1,A,S,Val(1),Val(3))\n",
    "# this is the \"hand-written\" version where A has to be 1D\n",
    "contract!(C2,A,S,Val(3))\n",
    "@assert C1 ≈ C2\n",
    "@assert C1 ≈ C3"
   ]
  },
  {
   "cell_type": "code",
   "execution_count": 10,
   "metadata": {
    "ExecuteTime": {
     "end_time": "2021-10-22T23:44:23.571000+02:00",
     "start_time": "2021-10-22T21:44:04.536Z"
    }
   },
   "outputs": [
    {
     "name": "stdout",
     "output_type": "stream",
     "text": [
      "  29.027 μs (1 allocation: 16 bytes)\n",
      "  23.411 μs (7 allocations: 368 bytes)\n",
      "  3.229 μs (0 allocations: 0 bytes)\n"
     ]
    }
   ],
   "source": [
    "@btime @tensor C3[i,j] = B[i,j,k]*A[k]\n",
    "@btime contract!(C1,A,S,Val(1),Val(3))\n",
    "# this is the \"hand-written\" version where A has to be 1D\n",
    "@btime contract!(C2,A,S,Val(3));"
   ]
  },
  {
   "cell_type": "code",
   "execution_count": 11,
   "metadata": {
    "ExecuteTime": {
     "end_time": "2021-10-22T23:44:37.305000+02:00",
     "start_time": "2021-10-22T21:44:35.390Z"
    },
    "scrolled": false
   },
   "outputs": [],
   "source": [
    "N1, N2, N3 = 10, 12, 13\n",
    "A = rand(N1,N2,N3)\n",
    "S = SymArray{(3,2,1),Float64}(N1,N1,N1,N2,N2,N3)\n",
    "rand!(S.data)\n",
    "# \n",
    "C11 = SymArray{(1,1,2,2,1),Float64}(N2,N3,N1,N1,N2,N2,N3)\n",
    "C12 = copy(C11)\n",
    "C13 = copy(C11)\n",
    "contract!(C11,A,S,Val(1),Val(1))\n",
    "contract!(C12,A,S,Val(1),Val(2))\n",
    "contract!(C13,A,S,Val(1),Val(3))\n",
    "@assert C11 == C12\n",
    "@assert C11 == C13\n",
    "C24 = SymArray{(1,1,3,1,1),Float64}(N1,N3,N1,N1,N1,N2,N3)\n",
    "contract!(C24,A,S,Val(2),Val(4))\n",
    "C25 = SymArray{(1,1,3,1,1),Float64}(N1,N3,N1,N1,N1,N2,N3)\n",
    "contract!(C25,A,S,Val(2),Val(5))\n",
    "@assert C24 == C25\n",
    "\n",
    "C36 = SymArray{(1,1,3,2),Float64}(N1,N2,N1,N1,N1,N2,N2)\n",
    "contract!(C36,A,S,Val(3),Val(6));"
   ]
  },
  {
   "cell_type": "code",
   "execution_count": 12,
   "metadata": {
    "ExecuteTime": {
     "end_time": "2021-10-22T23:44:49.269000+02:00",
     "start_time": "2021-10-22T21:44:39.324Z"
    }
   },
   "outputs": [],
   "source": [
    "contract!(C24,A,S,Val(2),Val(4));\n",
    "B = collect(S)\n",
    "@tensor C24_AB[i,k,l,m,n,o,p] := A[i,j,k] * B[l,m,n,j,o,p]\n",
    "@assert C24 ≈ C24_AB"
   ]
  },
  {
   "cell_type": "code",
   "execution_count": 13,
   "metadata": {
    "ExecuteTime": {
     "end_time": "2021-10-22T23:45:01.681000+02:00",
     "start_time": "2021-10-22T21:44:59.995Z"
    }
   },
   "outputs": [],
   "source": [
    "contract!(C36,A,S,Val(3),Val(6));\n",
    "B = collect(S)\n",
    "@tensor C36_AB[i,j,l,m,n,o,p] := A[i,j,k] * B[l,m,n,o,p,k]\n",
    "@assert C36 ≈ C36_AB"
   ]
  },
  {
   "cell_type": "code",
   "execution_count": 14,
   "metadata": {
    "ExecuteTime": {
     "end_time": "2021-10-22T23:45:29.138000+02:00",
     "start_time": "2021-10-22T21:45:03.095Z"
    }
   },
   "outputs": [
    {
     "name": "stdout",
     "output_type": "stream",
     "text": [
      "  71.254 ms (6 allocations: 368 bytes)\n",
      "  65.991 ms (1 allocation: 16 bytes)\n"
     ]
    }
   ],
   "source": [
    "@tensor C11_AB[j,k,l,m,n,o,p] := A[i,j,k] * B[i,l,m,n,o,p]\n",
    "@btime contract!(C11,A,S,Val(1),Val(1))\n",
    "@assert C11 ≈ C11_AB\n",
    "@btime @tensor C11_AB[j,k,l,m,n,o,p] = A[i,j,k] * B[i,l,m,n,o,p];"
   ]
  },
  {
   "cell_type": "code",
   "execution_count": 15,
   "metadata": {
    "ExecuteTime": {
     "end_time": "2021-10-22T23:45:53.612000+02:00",
     "start_time": "2021-10-22T21:45:05.587Z"
    }
   },
   "outputs": [
    {
     "name": "stdout",
     "output_type": "stream",
     "text": [
      "  3.017 ms (7 allocations: 368 bytes)\n",
      "  41.001 ms (1 allocation: 16 bytes)\n"
     ]
    }
   ],
   "source": [
    "@btime contract!(C36,A,S,Val(3),Val(6));\n",
    "@btime @tensor C36_AB[i,j,l,m,n,o,p] = A[i,j,k] * B[l,m,n,o,p,k];\n",
    "@assert C36 ≈ C36_AB"
   ]
  },
  {
   "cell_type": "code",
   "execution_count": 16,
   "metadata": {
    "ExecuteTime": {
     "end_time": "2021-10-22T23:48:11.686000+02:00",
     "start_time": "2021-10-22T21:45:13.709Z"
    }
   },
   "outputs": [
    {
     "name": "stdout",
     "output_type": "stream",
     "text": [
      "2 10 16\n",
      "  296.353 ns (6 allocations: 368 bytes)\n",
      "  401.425 ns (1 allocation: 16 bytes)\n",
      "4 35 256\n",
      "  731.752 ns (6 allocations: 368 bytes)\n",
      "  6.071 μs (34 allocations: 2.20 KiB)\n",
      "6 84 4096\n",
      "  2.825 μs (6 allocations: 368 bytes)\n",
      "  18.796 μs (30 allocations: 2.33 KiB)\n",
      "8 165 65536\n",
      "  8.301 μs (6 allocations: 368 bytes)\n",
      "  185.320 μs (32 allocations: 2.70 KiB)\n",
      "10 286 1048576\n",
      "  20.411 μs (6 allocations: 368 bytes)\n",
      "  3.022 ms (105 allocations: 7.47 KiB)\n",
      "12 455 16777216\n",
      "  69.294 μs (6 allocations: 368 bytes)\n",
      "  75.668 ms (180 allocations: 13.55 KiB)\n"
     ]
    }
   ],
   "source": [
    "@generated function benchtensor(res_B, A, B::Array{T,Ndim},::Val{mm}) where {T,Ndim,mm}\n",
    "    inds_B = Symbol.(:i,1:Ndim)\n",
    "    inds_B[mm] = :j\n",
    "    inds_res = (:i,inds_B[1:Ndim .!= mm]...)\n",
    "    :( @tensor res_B[$(inds_res...)] = A[i,j]*B[$(inds_B...)] )\n",
    "end\n",
    "\n",
    "NN = 4\n",
    "maxNdim = 12\n",
    "for Ndim = 2:2:maxNdim\n",
    "    S = SymArray{(Ndim,),Float64}(ntuple(i->NN,Ndim)...)\n",
    "    rand!(S.data)\n",
    "    println(Ndim,\" \",length(S),\" \",prod(size(S)))\n",
    "    B = collect(S)\n",
    "\n",
    "    A = rand(NN,NN)\n",
    "    res = SymArray{(1,Ndim-1),Float64}(size(S)...)\n",
    "    res_B = Array{Float64,Ndim}(undef,size(res))\n",
    "\n",
    "    mm = Val(Ndim÷2)\n",
    "    @btime contract!($res,$A,$S,Val(2),$mm)\n",
    "    @btime benchtensor($res_B, $A, $B, $mm)\n",
    "    \n",
    "    @assert res ≈ res_B\n",
    "end"
   ]
  }
 ],
 "metadata": {
  "@webio": {
   "lastCommId": null,
   "lastKernelId": null
  },
  "hide_input": false,
  "kernelspec": {
   "display_name": "node Julia 1 GPUs",
   "language": "",
   "name": "compute_node_julia_1gpu"
  },
  "language_info": {
   "file_extension": ".jl",
   "mimetype": "application/julia",
   "name": "julia",
   "version": "1.6.3"
  },
  "toc": {
   "base_numbering": 1,
   "nav_menu": {},
   "number_sections": true,
   "sideBar": true,
   "skip_h1_title": false,
   "title_cell": "Table of Contents",
   "title_sidebar": "Contents",
   "toc_cell": false,
   "toc_position": {},
   "toc_section_display": true,
   "toc_window_display": false
  },
  "varInspector": {
   "cols": {
    "lenName": 16,
    "lenType": 16,
    "lenVar": 40
   },
   "kernels_config": {
    "python": {
     "delete_cmd_postfix": "",
     "delete_cmd_prefix": "del ",
     "library": "var_list.py",
     "varRefreshCmd": "print(var_dic_list())"
    },
    "r": {
     "delete_cmd_postfix": ") ",
     "delete_cmd_prefix": "rm(",
     "library": "var_list.r",
     "varRefreshCmd": "cat(var_dic_list()) "
    }
   },
   "types_to_exclude": [
    "module",
    "function",
    "builtin_function_or_method",
    "instance",
    "_Feature"
   ],
   "window_display": false
  }
 },
 "nbformat": 4,
 "nbformat_minor": 2
}
